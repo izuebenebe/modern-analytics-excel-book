{
 "cells": [
  {
   "cell_type": "code",
   "execution_count": 1,
   "id": "07308d9e",
   "metadata": {},
   "outputs": [],
   "source": [
    "import pandas as pd\n",
    "import seaborn as sns\n",
    "from openpyxl import Workbook\n",
    "from openpyxl.chart import BarChart, Reference\n",
    "from openpyxl.drawing.image import Image\n",
    "from openpyxl.utils.dataframe import dataframe_to_rows\n",
    "from openpyxl.utils import get_column_letter\n",
    "from openpyxl.utils.dataframe import dataframe_to_rows\n",
    "from openpyxl.worksheet.table import Table, TableStyleInfo\n",
    "from openpyxl.styles import PatternFill"
   ]
  },
  {
   "cell_type": "markdown",
   "id": "0f655090",
   "metadata": {},
   "source": [
    "Give them a regular expression to try to match?\n",
    "\n",
    "Drop missing values from the dataset? Check out how many there are?\n",
    "\n",
    "Insert the resulting dataset as a table\n",
    "\n",
    "Insert a Python stripplot\n",
    "\n",
    "Convert it to a table?\n",
    "\n",
    "Basic conditional formatting?\n",
    "\n",
    "https://chat.openai.com/share/69e252cf-16ff-484a-ac36-4068045970a2"
   ]
  },
  {
   "cell_type": "code",
   "execution_count": 3,
   "id": "edfaed8a",
   "metadata": {},
   "outputs": [
    {
     "data": {
      "text/html": [
       "<div>\n",
       "<style scoped>\n",
       "    .dataframe tbody tr th:only-of-type {\n",
       "        vertical-align: middle;\n",
       "    }\n",
       "\n",
       "    .dataframe tbody tr th {\n",
       "        vertical-align: top;\n",
       "    }\n",
       "\n",
       "    .dataframe thead th {\n",
       "        text-align: right;\n",
       "    }\n",
       "</style>\n",
       "<table border=\"1\" class=\"dataframe\">\n",
       "  <thead>\n",
       "    <tr style=\"text-align: right;\">\n",
       "      <th></th>\n",
       "      <th>URL</th>\n",
       "      <th>Category</th>\n",
       "      <th>Rating</th>\n",
       "      <th>Visitors</th>\n",
       "    </tr>\n",
       "  </thead>\n",
       "  <tbody>\n",
       "    <tr>\n",
       "      <th>0</th>\n",
       "      <td>https://www.example.com</td>\n",
       "      <td>News</td>\n",
       "      <td>4.5</td>\n",
       "      <td>10000.0</td>\n",
       "    </tr>\n",
       "    <tr>\n",
       "      <th>1</th>\n",
       "      <td>https://www.invalidurl</td>\n",
       "      <td>Technology</td>\n",
       "      <td>3.2</td>\n",
       "      <td>5000.0</td>\n",
       "    </tr>\n",
       "    <tr>\n",
       "      <th>2</th>\n",
       "      <td>https://www.openai.org</td>\n",
       "      <td>Finance</td>\n",
       "      <td>4.8</td>\n",
       "      <td>20000.0</td>\n",
       "    </tr>\n",
       "    <tr>\n",
       "      <th>3</th>\n",
       "      <td>https://www.example2.com</td>\n",
       "      <td>Education</td>\n",
       "      <td>4.2</td>\n",
       "      <td>15000.0</td>\n",
       "    </tr>\n",
       "    <tr>\n",
       "      <th>4</th>\n",
       "      <td>https://www.invalidurl2</td>\n",
       "      <td>News</td>\n",
       "      <td>2.9</td>\n",
       "      <td>3000.0</td>\n",
       "    </tr>\n",
       "  </tbody>\n",
       "</table>\n",
       "</div>"
      ],
      "text/plain": [
       "                        URL    Category  Rating  Visitors\n",
       "0   https://www.example.com        News     4.5   10000.0\n",
       "1    https://www.invalidurl  Technology     3.2    5000.0\n",
       "2    https://www.openai.org     Finance     4.8   20000.0\n",
       "3  https://www.example2.com   Education     4.2   15000.0\n",
       "4   https://www.invalidurl2        News     2.9    3000.0"
      ]
     },
     "execution_count": 3,
     "metadata": {},
     "output_type": "execute_result"
    }
   ],
   "source": [
    "websites = pd.read_excel('../datasets/websites.xlsx')\n",
    "websites.head()"
   ]
  },
  {
   "cell_type": "code",
   "execution_count": 5,
   "id": "90f00173",
   "metadata": {},
   "outputs": [
    {
     "data": {
      "text/plain": [
       "(34, 4)"
      ]
     },
     "execution_count": 5,
     "metadata": {},
     "output_type": "execute_result"
    }
   ],
   "source": [
    "websites.shape"
   ]
  },
  {
   "cell_type": "code",
   "execution_count": 7,
   "id": "ba31846d",
   "metadata": {},
   "outputs": [
    {
     "data": {
      "text/plain": [
       "(28, 4)"
      ]
     },
     "execution_count": 7,
     "metadata": {},
     "output_type": "execute_result"
    }
   ],
   "source": [
    "url_pattern = r'^(?:(?:https?|ftp):\\/\\/)?(?:www\\.)?[a-zA-Z0-9.-]+\\.[a-zA-Z]{2,}(?:\\/[^\\s]*)?$'\n",
    "\n",
    "valid_urls = websites[websites['URL'].str.contains(url_pattern)]\n",
    "valid_urls.shape"
   ]
  },
  {
   "cell_type": "code",
   "execution_count": 8,
   "id": "8929e31b",
   "metadata": {},
   "outputs": [
    {
     "data": {
      "text/plain": [
       "Visitors    0.107143\n",
       "Rating      0.071429\n",
       "URL         0.000000\n",
       "Category    0.000000\n",
       "dtype: float64"
      ]
     },
     "execution_count": 8,
     "metadata": {},
     "output_type": "execute_result"
    }
   ],
   "source": [
    "valid_urls.isnull().mean().sort_values(ascending=False)"
   ]
  },
  {
   "cell_type": "code",
   "execution_count": 10,
   "id": "dec4f513",
   "metadata": {},
   "outputs": [
    {
     "name": "stdout",
     "output_type": "stream",
     "text": [
      "<class 'pandas.core.frame.DataFrame'>\n",
      "Int64Index: 24 entries, 0 to 31\n",
      "Data columns (total 4 columns):\n",
      " #   Column    Non-Null Count  Dtype  \n",
      "---  ------    --------------  -----  \n",
      " 0   URL       24 non-null     object \n",
      " 1   Category  24 non-null     object \n",
      " 2   Rating    24 non-null     float64\n",
      " 3   Visitors  24 non-null     float64\n",
      "dtypes: float64(2), object(2)\n",
      "memory usage: 960.0+ bytes\n"
     ]
    }
   ],
   "source": [
    "complete_cases = valid_emails.dropna()\n",
    "complete_cases.info()"
   ]
  },
  {
   "cell_type": "markdown",
   "id": "e57aed3f",
   "metadata": {},
   "source": [
    "# Transfer results to Excel"
   ]
  },
  {
   "cell_type": "code",
   "execution_count": 11,
   "id": "8e06d214",
   "metadata": {},
   "outputs": [],
   "source": [
    "wb = Workbook()\n",
    "\n",
    "ws = wb.active"
   ]
  },
  {
   "cell_type": "code",
   "execution_count": null,
   "id": "505c23a2",
   "metadata": {},
   "outputs": [],
   "source": [
    "ws['A1'] = 'Total number of websites'\n",
    "ws['B1'] = len(complete_cases)"
   ]
  },
  {
   "cell_type": "code",
   "execution_count": null,
   "id": "74b3afc9",
   "metadata": {},
   "outputs": [],
   "source": [
    "ws['A2'] = 'Total number of visitors'\n",
    "ws['B2'] = round(complete_cases['Visitors'].sum())"
   ]
  },
  {
   "cell_type": "code",
   "execution_count": null,
   "id": "7143943c",
   "metadata": {},
   "outputs": [],
   "source": [
    "ws['A3'] = 'Average number of visitors'\n",
    "ws['B3'] = round(complete_cases['Rating'].mean(), 2)"
   ]
  },
  {
   "cell_type": "code",
   "execution_count": 17,
   "id": "60fc80e4",
   "metadata": {},
   "outputs": [],
   "source": [
    "# Widen Column A"
   ]
  },
  {
   "cell_type": "code",
   "execution_count": 18,
   "id": "270a573a",
   "metadata": {},
   "outputs": [],
   "source": [
    "# Apply thousands separator format to `B2`"
   ]
  },
  {
   "cell_type": "code",
   "execution_count": 19,
   "id": "04ac1668",
   "metadata": {},
   "outputs": [],
   "source": [
    "# Add data as to new worksheet"
   ]
  },
  {
   "cell_type": "code",
   "execution_count": 20,
   "id": "7d9c63e2",
   "metadata": {},
   "outputs": [],
   "source": [
    "# Format rows with rating greater than 4 as green"
   ]
  },
  {
   "cell_type": "code",
   "execution_count": 21,
   "id": "c0faba8b",
   "metadata": {},
   "outputs": [],
   "source": [
    "# Add Excel scatterplot comparing Rating and Visitors"
   ]
  },
  {
   "cell_type": "code",
   "execution_count": null,
   "id": "d152af89",
   "metadata": {},
   "outputs": [],
   "source": [
    "# Add Python scatterplot comparing Rating and Visitors "
   ]
  },
  {
   "cell_type": "code",
   "execution_count": null,
   "id": "0fb3b033",
   "metadata": {},
   "outputs": [],
   "source": [
    "# Autofit the widths of the data table  "
   ]
  }
 ],
 "metadata": {
  "kernelspec": {
   "display_name": "Python 3 (ipykernel)",
   "language": "python",
   "name": "python3"
  },
  "language_info": {
   "codemirror_mode": {
    "name": "ipython",
    "version": 3
   },
   "file_extension": ".py",
   "mimetype": "text/x-python",
   "name": "python",
   "nbconvert_exporter": "python",
   "pygments_lexer": "ipython3",
   "version": "3.9.16"
  }
 },
 "nbformat": 4,
 "nbformat_minor": 5
}
