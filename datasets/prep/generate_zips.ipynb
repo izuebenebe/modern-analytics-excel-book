{
 "cells": [
  {
   "cell_type": "code",
   "execution_count": 2,
   "id": "b67f5b35",
   "metadata": {},
   "outputs": [],
   "source": [
    "import random\n",
    "import pandas as pd\n",
    "\n",
    "states = ['Illinois', 'Indiana', 'Iowa', 'Kansas', 'Michigan', 'Minnesota',\n",
    "          'Missouri', 'Nebraska', 'North Dakota', 'Ohio', 'South Dakota', 'Wisconsin']\n",
    "\n",
    "zip_codes = [str(random.randint(50001, 59999)).zfill(5) for _ in range(200)]\n",
    "postal_abbreviations = ['IL', 'IN', 'IA', 'KS', 'MI', 'MN', 'MO', 'NE', 'ND', 'OH', 'SD', 'WI']\n",
    "\n",
    "data = []\n",
    "for i in range(200):\n",
    "    state = random.choice(states)\n",
    "    postal_abbr = postal_abbreviations[states.index(state)]\n",
    "    zip_code = zip_codes[i]\n",
    "    data.append({'State': state, 'Postal Abbreviation': postal_abbr, 'ZIP Code': zip_code})\n",
    "\n",
    "df = pd.DataFrame(data)\n",
    "df.head()\n",
    "\n",
    "\n",
    "df.to_excel('zip_codes.xlsx')\n"
   ]
  },
  {
   "cell_type": "code",
   "execution_count": null,
   "id": "122a0f1f",
   "metadata": {},
   "outputs": [],
   "source": []
  }
 ],
 "metadata": {
  "kernelspec": {
   "display_name": "Python 3 (ipykernel)",
   "language": "python",
   "name": "python3"
  },
  "language_info": {
   "codemirror_mode": {
    "name": "ipython",
    "version": 3
   },
   "file_extension": ".py",
   "mimetype": "text/x-python",
   "name": "python",
   "nbconvert_exporter": "python",
   "pygments_lexer": "ipython3",
   "version": "3.9.16"
  }
 },
 "nbformat": 4,
 "nbformat_minor": 5
}
