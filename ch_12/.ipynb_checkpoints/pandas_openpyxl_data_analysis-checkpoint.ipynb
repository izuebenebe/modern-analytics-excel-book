{
 "cells": [
  {
   "cell_type": "markdown",
   "id": "bf91ae55",
   "metadata": {},
   "source": [
    "`pandas` is able to import data from a variety of formats, including Excel workbooks with the `read_excel()` function. Let's go ahead and read in `contestants.xlsx` as `contestants`. "
   ]
  },
  {
   "cell_type": "markdown",
   "id": "2e2eb24b",
   "metadata": {},
   "source": [
    "## Importing the data"
   ]
  },
  {
   "cell_type": "code",
   "execution_count": 1,
   "id": "8a4d7839",
   "metadata": {},
   "outputs": [],
   "source": [
    "import pandas as pd\n",
    "contestants = pd.read_excel('contestants.xlsx')"
   ]
  },
  {
   "cell_type": "markdown",
   "id": "ad6b6bda",
   "metadata": {},
   "source": [
    "This can be done with the `head()` method to print just the first five rows. "
   ]
  },
  {
   "cell_type": "code",
   "execution_count": 2,
   "id": "16249368",
   "metadata": {},
   "outputs": [
    {
     "data": {
      "text/html": [
       "<div>\n",
       "<style scoped>\n",
       "    .dataframe tbody tr th:only-of-type {\n",
       "        vertical-align: middle;\n",
       "    }\n",
       "\n",
       "    .dataframe tbody tr th {\n",
       "        vertical-align: top;\n",
       "    }\n",
       "\n",
       "    .dataframe thead th {\n",
       "        text-align: right;\n",
       "    }\n",
       "</style>\n",
       "<table border=\"1\" class=\"dataframe\">\n",
       "  <thead>\n",
       "    <tr style=\"text-align: right;\">\n",
       "      <th></th>\n",
       "      <th>EMAIL</th>\n",
       "      <th>COHORT</th>\n",
       "      <th>PRE</th>\n",
       "      <th>POST</th>\n",
       "      <th>AGE</th>\n",
       "      <th>SEX</th>\n",
       "      <th>EDUCATION</th>\n",
       "      <th>SATISFACTION</th>\n",
       "      <th>STUDY_HOURS</th>\n",
       "    </tr>\n",
       "  </thead>\n",
       "  <tbody>\n",
       "    <tr>\n",
       "      <th>0</th>\n",
       "      <td>smehaffey0@creativecommons.org</td>\n",
       "      <td>4</td>\n",
       "      <td>485</td>\n",
       "      <td>494</td>\n",
       "      <td>32</td>\n",
       "      <td>Male</td>\n",
       "      <td>Bachelor's</td>\n",
       "      <td>2</td>\n",
       "      <td>36.6</td>\n",
       "    </tr>\n",
       "    <tr>\n",
       "      <th>1</th>\n",
       "      <td>dbateman1@hao12@.com</td>\n",
       "      <td>4</td>\n",
       "      <td>462</td>\n",
       "      <td>458</td>\n",
       "      <td>33</td>\n",
       "      <td>Female</td>\n",
       "      <td>Bachelor's</td>\n",
       "      <td>8</td>\n",
       "      <td>22.4</td>\n",
       "    </tr>\n",
       "    <tr>\n",
       "      <th>2</th>\n",
       "      <td>bbenham2@xrea.com</td>\n",
       "      <td>3</td>\n",
       "      <td>477</td>\n",
       "      <td>483</td>\n",
       "      <td>33</td>\n",
       "      <td>Female</td>\n",
       "      <td>Bachelor's</td>\n",
       "      <td>1</td>\n",
       "      <td>19.8</td>\n",
       "    </tr>\n",
       "    <tr>\n",
       "      <th>3</th>\n",
       "      <td>mwison@@g.co</td>\n",
       "      <td>2</td>\n",
       "      <td>480</td>\n",
       "      <td>488</td>\n",
       "      <td>31</td>\n",
       "      <td>Female</td>\n",
       "      <td>Bachelor's</td>\n",
       "      <td>10</td>\n",
       "      <td>33.1</td>\n",
       "    </tr>\n",
       "    <tr>\n",
       "      <th>4</th>\n",
       "      <td>jagostini4@wordpress.org</td>\n",
       "      <td>1</td>\n",
       "      <td>495</td>\n",
       "      <td>494</td>\n",
       "      <td>38</td>\n",
       "      <td>Female</td>\n",
       "      <td>Bachelor's</td>\n",
       "      <td>9</td>\n",
       "      <td>32.5</td>\n",
       "    </tr>\n",
       "  </tbody>\n",
       "</table>\n",
       "</div>"
      ],
      "text/plain": [
       "                            EMAIL  COHORT  PRE  POST  AGE     SEX   EDUCATION  \\\n",
       "0  smehaffey0@creativecommons.org       4  485   494   32    Male  Bachelor's   \n",
       "1            dbateman1@hao12@.com       4  462   458   33  Female  Bachelor's   \n",
       "2               bbenham2@xrea.com       3  477   483   33  Female  Bachelor's   \n",
       "3                    mwison@@g.co       2  480   488   31  Female  Bachelor's   \n",
       "4        jagostini4@wordpress.org       1  495   494   38  Female  Bachelor's   \n",
       "\n",
       "   SATISFACTION  STUDY_HOURS  \n",
       "0             2         36.6  \n",
       "1             8         22.4  \n",
       "2             1         19.8  \n",
       "3            10         33.1  \n",
       "4             9         32.5  "
      ]
     },
     "execution_count": 2,
     "metadata": {},
     "output_type": "execute_result"
    }
   ],
   "source": [
    "contestants.head()"
   ]
  },
  {
   "cell_type": "markdown",
   "id": "c85d9210",
   "metadata": {},
   "source": [
    "## Cleaning up the columns \n",
    "\n",
    "A data analysis/transformation program worth its salt will be just as good at working with your _metadata_ as it is your data! `pandas` is particularly well suited for that.\n",
    "\n",
    "I find it much easier to work with columns when they are all named in lowercase, we can easily do that with one line of code like so: "
   ]
  },
  {
   "cell_type": "code",
   "execution_count": 3,
   "id": "8baa490a",
   "metadata": {},
   "outputs": [
    {
     "data": {
      "text/html": [
       "<div>\n",
       "<style scoped>\n",
       "    .dataframe tbody tr th:only-of-type {\n",
       "        vertical-align: middle;\n",
       "    }\n",
       "\n",
       "    .dataframe tbody tr th {\n",
       "        vertical-align: top;\n",
       "    }\n",
       "\n",
       "    .dataframe thead th {\n",
       "        text-align: right;\n",
       "    }\n",
       "</style>\n",
       "<table border=\"1\" class=\"dataframe\">\n",
       "  <thead>\n",
       "    <tr style=\"text-align: right;\">\n",
       "      <th></th>\n",
       "      <th>email</th>\n",
       "      <th>cohort</th>\n",
       "      <th>pre</th>\n",
       "      <th>post</th>\n",
       "      <th>age</th>\n",
       "      <th>sex</th>\n",
       "      <th>education</th>\n",
       "      <th>satisfaction</th>\n",
       "      <th>study_hours</th>\n",
       "    </tr>\n",
       "  </thead>\n",
       "  <tbody>\n",
       "    <tr>\n",
       "      <th>0</th>\n",
       "      <td>smehaffey0@creativecommons.org</td>\n",
       "      <td>4</td>\n",
       "      <td>485</td>\n",
       "      <td>494</td>\n",
       "      <td>32</td>\n",
       "      <td>Male</td>\n",
       "      <td>Bachelor's</td>\n",
       "      <td>2</td>\n",
       "      <td>36.6</td>\n",
       "    </tr>\n",
       "    <tr>\n",
       "      <th>1</th>\n",
       "      <td>dbateman1@hao12@.com</td>\n",
       "      <td>4</td>\n",
       "      <td>462</td>\n",
       "      <td>458</td>\n",
       "      <td>33</td>\n",
       "      <td>Female</td>\n",
       "      <td>Bachelor's</td>\n",
       "      <td>8</td>\n",
       "      <td>22.4</td>\n",
       "    </tr>\n",
       "    <tr>\n",
       "      <th>2</th>\n",
       "      <td>bbenham2@xrea.com</td>\n",
       "      <td>3</td>\n",
       "      <td>477</td>\n",
       "      <td>483</td>\n",
       "      <td>33</td>\n",
       "      <td>Female</td>\n",
       "      <td>Bachelor's</td>\n",
       "      <td>1</td>\n",
       "      <td>19.8</td>\n",
       "    </tr>\n",
       "    <tr>\n",
       "      <th>3</th>\n",
       "      <td>mwison@@g.co</td>\n",
       "      <td>2</td>\n",
       "      <td>480</td>\n",
       "      <td>488</td>\n",
       "      <td>31</td>\n",
       "      <td>Female</td>\n",
       "      <td>Bachelor's</td>\n",
       "      <td>10</td>\n",
       "      <td>33.1</td>\n",
       "    </tr>\n",
       "    <tr>\n",
       "      <th>4</th>\n",
       "      <td>jagostini4@wordpress.org</td>\n",
       "      <td>1</td>\n",
       "      <td>495</td>\n",
       "      <td>494</td>\n",
       "      <td>38</td>\n",
       "      <td>Female</td>\n",
       "      <td>Bachelor's</td>\n",
       "      <td>9</td>\n",
       "      <td>32.5</td>\n",
       "    </tr>\n",
       "  </tbody>\n",
       "</table>\n",
       "</div>"
      ],
      "text/plain": [
       "                            email  cohort  pre  post  age     sex   education  \\\n",
       "0  smehaffey0@creativecommons.org       4  485   494   32    Male  Bachelor's   \n",
       "1            dbateman1@hao12@.com       4  462   458   33  Female  Bachelor's   \n",
       "2               bbenham2@xrea.com       3  477   483   33  Female  Bachelor's   \n",
       "3                    mwison@@g.co       2  480   488   31  Female  Bachelor's   \n",
       "4        jagostini4@wordpress.org       1  495   494   38  Female  Bachelor's   \n",
       "\n",
       "   satisfaction  study_hours  \n",
       "0             2         36.6  \n",
       "1             8         22.4  \n",
       "2             1         19.8  \n",
       "3            10         33.1  \n",
       "4             9         32.5  "
      ]
     },
     "execution_count": 3,
     "metadata": {},
     "output_type": "execute_result"
    }
   ],
   "source": [
    "# Convert headers to all lowercase\n",
    "\n",
    "contestants.columns = contestants.columns.str.lower()\n",
    "contestants.head()"
   ]
  },
  {
   "cell_type": "markdown",
   "id": "5e5a3231",
   "metadata": {},
   "source": [
    "## Pattern matching/regular expressions\n",
    "\n",
    "The `contestants` DataFrame has a column called `email` consisting of email addresses for each participant in the context. We have been asked to go through this column and drop any rows that contain an invalid email address.\n",
    "\n",
    "Searching through text to match patterns is done with a group of tools called _regular expressions_. While Power Query does have some basic capabilities for working with text such as converting cases, it does not have the ability to search for patterns of text like Python can. \n",
    "\n",
    "Regular expressions are notoriously hard to build and validate, so don't worry too much about how the expression below here was actually created, there is always the internet to figure it out! \n",
    "\n",
    "We will go ahead and define it here:"
   ]
  },
  {
   "cell_type": "code",
   "execution_count": 4,
   "id": "c54cfbeb",
   "metadata": {},
   "outputs": [],
   "source": [
    "# Define a regular expression pattern for valid email addresses\n",
    "email_pattern = r'^[a-z0-9]+[\\._]?[a-z0-9]+[@]\\w+[.]\\w{2,3}$'  "
   ]
  },
  {
   "cell_type": "markdown",
   "id": "8afd7b29",
   "metadata": {},
   "source": [
    "Next, we can use the `contains()` function to keep only the records that match the pattern."
   ]
  },
  {
   "cell_type": "code",
   "execution_count": 5,
   "id": "63249bd1",
   "metadata": {},
   "outputs": [],
   "source": [
    "full_emails = contestants[contestants['email'].str.contains(email_pattern)]"
   ]
  },
  {
   "cell_type": "markdown",
   "id": "285ae2e4",
   "metadata": {},
   "source": [
    "To confirm how many rows have been filtered out, we can compare the `shape` attribute of the two DataFrames:"
   ]
  },
  {
   "cell_type": "code",
   "execution_count": 1,
   "id": "ac107c46",
   "metadata": {},
   "outputs": [
    {
     "ename": "NameError",
     "evalue": "name 'contestants' is not defined",
     "output_type": "error",
     "traceback": [
      "\u001b[1;31m---------------------------------------------------------------------------\u001b[0m",
      "\u001b[1;31mNameError\u001b[0m                                 Traceback (most recent call last)",
      "Input \u001b[1;32mIn [1]\u001b[0m, in \u001b[0;36m<cell line: 1>\u001b[1;34m()\u001b[0m\n\u001b[1;32m----> 1\u001b[0m \u001b[43mcontestants\u001b[49m\u001b[38;5;241m.\u001b[39mshape\n",
      "\u001b[1;31mNameError\u001b[0m: name 'contestants' is not defined"
     ]
    }
   ],
   "source": [
    "contestants.shape"
   ]
  },
  {
   "cell_type": "code",
   "execution_count": null,
   "id": "3170368f",
   "metadata": {},
   "outputs": [],
   "source": [
    "full_emails.shape"
   ]
  },
  {
   "cell_type": "markdown",
   "id": "ebe1b0eb",
   "metadata": {},
   "source": [
    "## Analyzing missing values \n",
    "\n",
    "A more thorough way to make sense of what's going on with the number of rows in the DataFrame is to use the `info()` method. "
   ]
  },
  {
   "cell_type": "code",
   "execution_count": 6,
   "id": "c04023d8",
   "metadata": {},
   "outputs": [
    {
     "name": "stdout",
     "output_type": "stream",
     "text": [
      "<class 'pandas.core.frame.DataFrame'>\n",
      "Int64Index: 82 entries, 0 to 99\n",
      "Data columns (total 9 columns):\n",
      " #   Column        Non-Null Count  Dtype  \n",
      "---  ------        --------------  -----  \n",
      " 0   email         82 non-null     object \n",
      " 1   cohort        82 non-null     int64  \n",
      " 2   pre           82 non-null     int64  \n",
      " 3   post          82 non-null     int64  \n",
      " 4   age           82 non-null     int64  \n",
      " 5   sex           82 non-null     object \n",
      " 6   education     82 non-null     object \n",
      " 7   satisfaction  82 non-null     int64  \n",
      " 8   study_hours   82 non-null     float64\n",
      "dtypes: float64(1), int64(5), object(3)\n",
      "memory usage: 6.4+ KB\n"
     ]
    }
   ],
   "source": [
    "full_emails.info()"
   ]
  },
  {
   "cell_type": "markdown",
   "id": "56148605",
   "metadata": {},
   "source": [
    "Here you will see mention of `null`. This is not a thing in Excel but it is in Python and many other programming languages! It's just a missing value. "
   ]
  },
  {
   "cell_type": "code",
   "execution_count": 7,
   "id": "8e90af7a",
   "metadata": {},
   "outputs": [
    {
     "name": "stdout",
     "output_type": "stream",
     "text": [
      "<class 'pandas.core.frame.DataFrame'>\n",
      "Int64Index: 82 entries, 0 to 99\n",
      "Data columns (total 9 columns):\n",
      " #   Column        Non-Null Count  Dtype  \n",
      "---  ------        --------------  -----  \n",
      " 0   email         82 non-null     object \n",
      " 1   cohort        82 non-null     int64  \n",
      " 2   pre           82 non-null     int64  \n",
      " 3   post          82 non-null     int64  \n",
      " 4   age           82 non-null     int64  \n",
      " 5   sex           82 non-null     object \n",
      " 6   education     82 non-null     object \n",
      " 7   satisfaction  82 non-null     int64  \n",
      " 8   study_hours   82 non-null     float64\n",
      "dtypes: float64(1), int64(5), object(3)\n",
      "memory usage: 6.4+ KB\n"
     ]
    }
   ],
   "source": [
    "# What percent of each column are missing?\n",
    "full_emails.info()"
   ]
  },
  {
   "cell_type": "code",
   "execution_count": 8,
   "id": "19898e58",
   "metadata": {},
   "outputs": [
    {
     "data": {
      "text/plain": [
       "email           0.0\n",
       "cohort          0.0\n",
       "pre             0.0\n",
       "post            0.0\n",
       "age             0.0\n",
       "sex             0.0\n",
       "education       0.0\n",
       "satisfaction    0.0\n",
       "study_hours     0.0\n",
       "dtype: float64"
      ]
     },
     "execution_count": 8,
     "metadata": {},
     "output_type": "execute_result"
    }
   ],
   "source": [
    "# Sort by percentage\n",
    "full_emails.isnull().mean().sort_values(ascending=False)"
   ]
  },
  {
   "cell_type": "code",
   "execution_count": 9,
   "id": "f068f5a4",
   "metadata": {},
   "outputs": [
    {
     "name": "stdout",
     "output_type": "stream",
     "text": [
      "<class 'pandas.core.frame.DataFrame'>\n",
      "Int64Index: 82 entries, 0 to 99\n",
      "Data columns (total 9 columns):\n",
      " #   Column        Non-Null Count  Dtype  \n",
      "---  ------        --------------  -----  \n",
      " 0   email         82 non-null     object \n",
      " 1   cohort        82 non-null     int64  \n",
      " 2   pre           82 non-null     int64  \n",
      " 3   post          82 non-null     int64  \n",
      " 4   age           82 non-null     int64  \n",
      " 5   sex           82 non-null     object \n",
      " 6   education     82 non-null     object \n",
      " 7   satisfaction  82 non-null     int64  \n",
      " 8   study_hours   82 non-null     float64\n",
      "dtypes: float64(1), int64(5), object(3)\n",
      "memory usage: 6.4+ KB\n"
     ]
    }
   ],
   "source": [
    "# Drop missing values\n",
    "complete_cases = full_emails.dropna()\n",
    "complete_cases.info()"
   ]
  },
  {
   "cell_type": "code",
   "execution_count": 10,
   "id": "d223db4c",
   "metadata": {},
   "outputs": [],
   "source": [
    "# Write to Excel -- Pandas \n",
    "complete_cases.to_excel('contestants_cleaned.xlsx', index=False)"
   ]
  },
  {
   "cell_type": "code",
   "execution_count": null,
   "id": "2859e2fc",
   "metadata": {},
   "outputs": [],
   "source": []
  }
 ],
 "metadata": {
  "kernelspec": {
   "display_name": "Python 3 (ipykernel)",
   "language": "python",
   "name": "python3"
  },
  "language_info": {
   "codemirror_mode": {
    "name": "ipython",
    "version": 3
   },
   "file_extension": ".py",
   "mimetype": "text/x-python",
   "name": "python",
   "nbconvert_exporter": "python",
   "pygments_lexer": "ipython3",
   "version": "3.9.12"
  }
 },
 "nbformat": 4,
 "nbformat_minor": 5
}
