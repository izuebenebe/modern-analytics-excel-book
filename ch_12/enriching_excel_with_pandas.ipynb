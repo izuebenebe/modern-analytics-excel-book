{
 "cells": [
  {
   "cell_type": "code",
   "execution_count": 1,
   "id": "8a4d7839",
   "metadata": {},
   "outputs": [],
   "source": [
    "import pandas as pd\n",
    "contestants = pd.read_excel('contestants.xlsx')"
   ]
  },
  {
   "cell_type": "code",
   "execution_count": 2,
   "id": "16249368",
   "metadata": {},
   "outputs": [
    {
     "data": {
      "text/html": [
       "<div>\n",
       "<style scoped>\n",
       "    .dataframe tbody tr th:only-of-type {\n",
       "        vertical-align: middle;\n",
       "    }\n",
       "\n",
       "    .dataframe tbody tr th {\n",
       "        vertical-align: top;\n",
       "    }\n",
       "\n",
       "    .dataframe thead th {\n",
       "        text-align: right;\n",
       "    }\n",
       "</style>\n",
       "<table border=\"1\" class=\"dataframe\">\n",
       "  <thead>\n",
       "    <tr style=\"text-align: right;\">\n",
       "      <th></th>\n",
       "      <th>EMAIL</th>\n",
       "      <th>COHORT</th>\n",
       "      <th>PRE</th>\n",
       "      <th>POST</th>\n",
       "      <th>AGE</th>\n",
       "      <th>SEX</th>\n",
       "      <th>EDUCATION</th>\n",
       "      <th>SATISFACTION</th>\n",
       "      <th>STUDY_HOURS</th>\n",
       "    </tr>\n",
       "  </thead>\n",
       "  <tbody>\n",
       "    <tr>\n",
       "      <th>0</th>\n",
       "      <td>smehaffey0@creativecommons.org</td>\n",
       "      <td>4</td>\n",
       "      <td>485</td>\n",
       "      <td>494</td>\n",
       "      <td>32</td>\n",
       "      <td>Male</td>\n",
       "      <td>Bachelor's</td>\n",
       "      <td>2</td>\n",
       "      <td>36.6</td>\n",
       "    </tr>\n",
       "    <tr>\n",
       "      <th>1</th>\n",
       "      <td>dbateman1@hao12@.com</td>\n",
       "      <td>4</td>\n",
       "      <td>462</td>\n",
       "      <td>458</td>\n",
       "      <td>33</td>\n",
       "      <td>Female</td>\n",
       "      <td>Bachelor's</td>\n",
       "      <td>8</td>\n",
       "      <td>22.4</td>\n",
       "    </tr>\n",
       "    <tr>\n",
       "      <th>2</th>\n",
       "      <td>bbenham2@xrea.com</td>\n",
       "      <td>3</td>\n",
       "      <td>477</td>\n",
       "      <td>483</td>\n",
       "      <td>33</td>\n",
       "      <td>Female</td>\n",
       "      <td>Bachelor's</td>\n",
       "      <td>1</td>\n",
       "      <td>19.8</td>\n",
       "    </tr>\n",
       "    <tr>\n",
       "      <th>3</th>\n",
       "      <td>mwison@@g.co</td>\n",
       "      <td>2</td>\n",
       "      <td>480</td>\n",
       "      <td>488</td>\n",
       "      <td>31</td>\n",
       "      <td>Female</td>\n",
       "      <td>Bachelor's</td>\n",
       "      <td>10</td>\n",
       "      <td>33.1</td>\n",
       "    </tr>\n",
       "    <tr>\n",
       "      <th>4</th>\n",
       "      <td>jagostini4@wordpress.org</td>\n",
       "      <td>1</td>\n",
       "      <td>495</td>\n",
       "      <td>494</td>\n",
       "      <td>38</td>\n",
       "      <td>Female</td>\n",
       "      <td>Bachelor's</td>\n",
       "      <td>9</td>\n",
       "      <td>32.5</td>\n",
       "    </tr>\n",
       "  </tbody>\n",
       "</table>\n",
       "</div>"
      ],
      "text/plain": [
       "                            EMAIL  COHORT  PRE  POST  AGE     SEX   EDUCATION  \\\n",
       "0  smehaffey0@creativecommons.org       4  485   494   32    Male  Bachelor's   \n",
       "1            dbateman1@hao12@.com       4  462   458   33  Female  Bachelor's   \n",
       "2               bbenham2@xrea.com       3  477   483   33  Female  Bachelor's   \n",
       "3                    mwison@@g.co       2  480   488   31  Female  Bachelor's   \n",
       "4        jagostini4@wordpress.org       1  495   494   38  Female  Bachelor's   \n",
       "\n",
       "   SATISFACTION  STUDY_HOURS  \n",
       "0             2         36.6  \n",
       "1             8         22.4  \n",
       "2             1         19.8  \n",
       "3            10         33.1  \n",
       "4             9         32.5  "
      ]
     },
     "execution_count": 2,
     "metadata": {},
     "output_type": "execute_result"
    }
   ],
   "source": [
    "contestants.head()"
   ]
  },
  {
   "cell_type": "code",
   "execution_count": 3,
   "id": "8baa490a",
   "metadata": {},
   "outputs": [
    {
     "data": {
      "text/html": [
       "<div>\n",
       "<style scoped>\n",
       "    .dataframe tbody tr th:only-of-type {\n",
       "        vertical-align: middle;\n",
       "    }\n",
       "\n",
       "    .dataframe tbody tr th {\n",
       "        vertical-align: top;\n",
       "    }\n",
       "\n",
       "    .dataframe thead th {\n",
       "        text-align: right;\n",
       "    }\n",
       "</style>\n",
       "<table border=\"1\" class=\"dataframe\">\n",
       "  <thead>\n",
       "    <tr style=\"text-align: right;\">\n",
       "      <th></th>\n",
       "      <th>email</th>\n",
       "      <th>cohort</th>\n",
       "      <th>pre</th>\n",
       "      <th>post</th>\n",
       "      <th>age</th>\n",
       "      <th>sex</th>\n",
       "      <th>education</th>\n",
       "      <th>satisfaction</th>\n",
       "      <th>study_hours</th>\n",
       "    </tr>\n",
       "  </thead>\n",
       "  <tbody>\n",
       "    <tr>\n",
       "      <th>0</th>\n",
       "      <td>smehaffey0@creativecommons.org</td>\n",
       "      <td>4</td>\n",
       "      <td>485</td>\n",
       "      <td>494</td>\n",
       "      <td>32</td>\n",
       "      <td>Male</td>\n",
       "      <td>Bachelor's</td>\n",
       "      <td>2</td>\n",
       "      <td>36.6</td>\n",
       "    </tr>\n",
       "    <tr>\n",
       "      <th>1</th>\n",
       "      <td>dbateman1@hao12@.com</td>\n",
       "      <td>4</td>\n",
       "      <td>462</td>\n",
       "      <td>458</td>\n",
       "      <td>33</td>\n",
       "      <td>Female</td>\n",
       "      <td>Bachelor's</td>\n",
       "      <td>8</td>\n",
       "      <td>22.4</td>\n",
       "    </tr>\n",
       "    <tr>\n",
       "      <th>2</th>\n",
       "      <td>bbenham2@xrea.com</td>\n",
       "      <td>3</td>\n",
       "      <td>477</td>\n",
       "      <td>483</td>\n",
       "      <td>33</td>\n",
       "      <td>Female</td>\n",
       "      <td>Bachelor's</td>\n",
       "      <td>1</td>\n",
       "      <td>19.8</td>\n",
       "    </tr>\n",
       "    <tr>\n",
       "      <th>3</th>\n",
       "      <td>mwison@@g.co</td>\n",
       "      <td>2</td>\n",
       "      <td>480</td>\n",
       "      <td>488</td>\n",
       "      <td>31</td>\n",
       "      <td>Female</td>\n",
       "      <td>Bachelor's</td>\n",
       "      <td>10</td>\n",
       "      <td>33.1</td>\n",
       "    </tr>\n",
       "    <tr>\n",
       "      <th>4</th>\n",
       "      <td>jagostini4@wordpress.org</td>\n",
       "      <td>1</td>\n",
       "      <td>495</td>\n",
       "      <td>494</td>\n",
       "      <td>38</td>\n",
       "      <td>Female</td>\n",
       "      <td>Bachelor's</td>\n",
       "      <td>9</td>\n",
       "      <td>32.5</td>\n",
       "    </tr>\n",
       "  </tbody>\n",
       "</table>\n",
       "</div>"
      ],
      "text/plain": [
       "                            email  cohort  pre  post  age     sex   education  \\\n",
       "0  smehaffey0@creativecommons.org       4  485   494   32    Male  Bachelor's   \n",
       "1            dbateman1@hao12@.com       4  462   458   33  Female  Bachelor's   \n",
       "2               bbenham2@xrea.com       3  477   483   33  Female  Bachelor's   \n",
       "3                    mwison@@g.co       2  480   488   31  Female  Bachelor's   \n",
       "4        jagostini4@wordpress.org       1  495   494   38  Female  Bachelor's   \n",
       "\n",
       "   satisfaction  study_hours  \n",
       "0             2         36.6  \n",
       "1             8         22.4  \n",
       "2             1         19.8  \n",
       "3            10         33.1  \n",
       "4             9         32.5  "
      ]
     },
     "execution_count": 3,
     "metadata": {},
     "output_type": "execute_result"
    }
   ],
   "source": [
    "# Convert headers to all lowercase\n",
    "\n",
    "contestants.columns = contestants.columns.str.lower()\n",
    "contestants.head()"
   ]
  },
  {
   "cell_type": "code",
   "execution_count": 4,
   "id": "c54cfbeb",
   "metadata": {},
   "outputs": [],
   "source": [
    "# Define a regular expression pattern for valid email addresses\n",
    "email_pattern = r'^[a-z0-9]+[\\._]?[a-z0-9]+[@]\\w+[.]\\w{2,3}$'  "
   ]
  },
  {
   "cell_type": "code",
   "execution_count": 5,
   "id": "63249bd1",
   "metadata": {},
   "outputs": [],
   "source": [
    "full_emails = contestants[contestants['email'].str.contains(email_pattern)]"
   ]
  },
  {
   "cell_type": "code",
   "execution_count": 6,
   "id": "c04023d8",
   "metadata": {},
   "outputs": [
    {
     "name": "stdout",
     "output_type": "stream",
     "text": [
      "<class 'pandas.core.frame.DataFrame'>\n",
      "Int64Index: 82 entries, 0 to 99\n",
      "Data columns (total 9 columns):\n",
      " #   Column        Non-Null Count  Dtype  \n",
      "---  ------        --------------  -----  \n",
      " 0   email         82 non-null     object \n",
      " 1   cohort        82 non-null     int64  \n",
      " 2   pre           82 non-null     int64  \n",
      " 3   post          82 non-null     int64  \n",
      " 4   age           82 non-null     int64  \n",
      " 5   sex           82 non-null     object \n",
      " 6   education     82 non-null     object \n",
      " 7   satisfaction  82 non-null     int64  \n",
      " 8   study_hours   82 non-null     float64\n",
      "dtypes: float64(1), int64(5), object(3)\n",
      "memory usage: 6.4+ KB\n"
     ]
    }
   ],
   "source": [
    "full_emails.info()"
   ]
  },
  {
   "cell_type": "code",
   "execution_count": 7,
   "id": "8e90af7a",
   "metadata": {},
   "outputs": [
    {
     "name": "stdout",
     "output_type": "stream",
     "text": [
      "<class 'pandas.core.frame.DataFrame'>\n",
      "Int64Index: 82 entries, 0 to 99\n",
      "Data columns (total 9 columns):\n",
      " #   Column        Non-Null Count  Dtype  \n",
      "---  ------        --------------  -----  \n",
      " 0   email         82 non-null     object \n",
      " 1   cohort        82 non-null     int64  \n",
      " 2   pre           82 non-null     int64  \n",
      " 3   post          82 non-null     int64  \n",
      " 4   age           82 non-null     int64  \n",
      " 5   sex           82 non-null     object \n",
      " 6   education     82 non-null     object \n",
      " 7   satisfaction  82 non-null     int64  \n",
      " 8   study_hours   82 non-null     float64\n",
      "dtypes: float64(1), int64(5), object(3)\n",
      "memory usage: 6.4+ KB\n"
     ]
    }
   ],
   "source": [
    "# What percent of each column are missing?\n",
    "full_emails.info()"
   ]
  },
  {
   "cell_type": "code",
   "execution_count": 8,
   "id": "19898e58",
   "metadata": {},
   "outputs": [
    {
     "data": {
      "text/plain": [
       "email           0.0\n",
       "cohort          0.0\n",
       "pre             0.0\n",
       "post            0.0\n",
       "age             0.0\n",
       "sex             0.0\n",
       "education       0.0\n",
       "satisfaction    0.0\n",
       "study_hours     0.0\n",
       "dtype: float64"
      ]
     },
     "execution_count": 8,
     "metadata": {},
     "output_type": "execute_result"
    }
   ],
   "source": [
    "# Sort by percentage\n",
    "full_emails.isnull().mean().sort_values(ascending=False)"
   ]
  },
  {
   "cell_type": "code",
   "execution_count": 9,
   "id": "f068f5a4",
   "metadata": {},
   "outputs": [
    {
     "name": "stdout",
     "output_type": "stream",
     "text": [
      "<class 'pandas.core.frame.DataFrame'>\n",
      "Int64Index: 82 entries, 0 to 99\n",
      "Data columns (total 9 columns):\n",
      " #   Column        Non-Null Count  Dtype  \n",
      "---  ------        --------------  -----  \n",
      " 0   email         82 non-null     object \n",
      " 1   cohort        82 non-null     int64  \n",
      " 2   pre           82 non-null     int64  \n",
      " 3   post          82 non-null     int64  \n",
      " 4   age           82 non-null     int64  \n",
      " 5   sex           82 non-null     object \n",
      " 6   education     82 non-null     object \n",
      " 7   satisfaction  82 non-null     int64  \n",
      " 8   study_hours   82 non-null     float64\n",
      "dtypes: float64(1), int64(5), object(3)\n",
      "memory usage: 6.4+ KB\n"
     ]
    }
   ],
   "source": [
    "# Drop missing values\n",
    "complete_cases = full_emails.dropna()\n",
    "complete_cases.info()"
   ]
  },
  {
   "cell_type": "code",
   "execution_count": 10,
   "id": "d223db4c",
   "metadata": {},
   "outputs": [],
   "source": [
    "# Write to Excel\n",
    "\n",
    "complete_cases.to_excel('contestants_cleaned.xlsx', index=False)"
   ]
  },
  {
   "cell_type": "code",
   "execution_count": null,
   "id": "2859e2fc",
   "metadata": {},
   "outputs": [],
   "source": []
  }
 ],
 "metadata": {
  "kernelspec": {
   "display_name": "Python 3 (ipykernel)",
   "language": "python",
   "name": "python3"
  },
  "language_info": {
   "codemirror_mode": {
    "name": "ipython",
    "version": 3
   },
   "file_extension": ".py",
   "mimetype": "text/x-python",
   "name": "python",
   "nbconvert_exporter": "python",
   "pygments_lexer": "ipython3",
   "version": "3.9.12"
  }
 },
 "nbformat": 4,
 "nbformat_minor": 5
}
