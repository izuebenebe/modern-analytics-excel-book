{
 "cells": [
  {
   "cell_type": "markdown",
   "id": "1f6d0d81",
   "metadata": {},
   "source": [
    "## Importing the data"
   ]
  },
  {
   "cell_type": "markdown",
   "id": "855548e5",
   "metadata": {},
   "source": [
    "The `pandas` library can import data from various formats, such as Excel workbooks using the `read_excel()` function. Let's read the `contestants.xlsx` file as `contestants`."
   ]
  },
  {
   "cell_type": "code",
   "execution_count": 1,
   "id": "8a4d7839",
   "metadata": {},
   "outputs": [],
   "source": [
    "import pandas as pd\n",
    "contestants = pd.read_excel('contestants.xlsx')"
   ]
  },
  {
   "cell_type": "markdown",
   "id": "09edd2eb",
   "metadata": {},
   "source": [
    "A `pandas` DataFrame may have thousands of rows or more, so printing them all is impractical. However, it is important to visually inspect the data -- a benefit Excel users are familiar with. To get a glimpse of the data and ensure it meets our expectations, we can use the `head()` method to display the first five rows."
   ]
  },
  {
   "cell_type": "code",
   "execution_count": 2,
   "id": "16249368",
   "metadata": {},
   "outputs": [
    {
     "data": {
      "text/html": [
       "<div>\n",
       "<style scoped>\n",
       "    .dataframe tbody tr th:only-of-type {\n",
       "        vertical-align: middle;\n",
       "    }\n",
       "\n",
       "    .dataframe tbody tr th {\n",
       "        vertical-align: top;\n",
       "    }\n",
       "\n",
       "    .dataframe thead th {\n",
       "        text-align: right;\n",
       "    }\n",
       "</style>\n",
       "<table border=\"1\" class=\"dataframe\">\n",
       "  <thead>\n",
       "    <tr style=\"text-align: right;\">\n",
       "      <th></th>\n",
       "      <th>EMAIL</th>\n",
       "      <th>COHORT</th>\n",
       "      <th>PRE</th>\n",
       "      <th>POST</th>\n",
       "      <th>AGE</th>\n",
       "      <th>SEX</th>\n",
       "      <th>EDUCATION</th>\n",
       "      <th>SATISFACTION</th>\n",
       "      <th>STUDY_HOURS</th>\n",
       "    </tr>\n",
       "  </thead>\n",
       "  <tbody>\n",
       "    <tr>\n",
       "      <th>0</th>\n",
       "      <td>smehaffey0@creativecommons.org</td>\n",
       "      <td>4</td>\n",
       "      <td>485</td>\n",
       "      <td>494</td>\n",
       "      <td>32.0</td>\n",
       "      <td>Male</td>\n",
       "      <td>Bachelor's</td>\n",
       "      <td>2</td>\n",
       "      <td>36.6</td>\n",
       "    </tr>\n",
       "    <tr>\n",
       "      <th>1</th>\n",
       "      <td>dbateman1@hao12@.com</td>\n",
       "      <td>4</td>\n",
       "      <td>462</td>\n",
       "      <td>458</td>\n",
       "      <td>33.0</td>\n",
       "      <td>Female</td>\n",
       "      <td>Bachelor's</td>\n",
       "      <td>8</td>\n",
       "      <td>22.4</td>\n",
       "    </tr>\n",
       "    <tr>\n",
       "      <th>2</th>\n",
       "      <td>bbenham2@xrea.com</td>\n",
       "      <td>3</td>\n",
       "      <td>477</td>\n",
       "      <td>483</td>\n",
       "      <td>NaN</td>\n",
       "      <td>Female</td>\n",
       "      <td>Bachelor's</td>\n",
       "      <td>1</td>\n",
       "      <td>19.8</td>\n",
       "    </tr>\n",
       "    <tr>\n",
       "      <th>3</th>\n",
       "      <td>mwison@@g.co</td>\n",
       "      <td>2</td>\n",
       "      <td>480</td>\n",
       "      <td>488</td>\n",
       "      <td>31.0</td>\n",
       "      <td>Female</td>\n",
       "      <td>Bachelor's</td>\n",
       "      <td>10</td>\n",
       "      <td>33.1</td>\n",
       "    </tr>\n",
       "    <tr>\n",
       "      <th>4</th>\n",
       "      <td>jagostini4@wordpress.org</td>\n",
       "      <td>1</td>\n",
       "      <td>495</td>\n",
       "      <td>494</td>\n",
       "      <td>38.0</td>\n",
       "      <td>Female</td>\n",
       "      <td>NaN</td>\n",
       "      <td>9</td>\n",
       "      <td>32.5</td>\n",
       "    </tr>\n",
       "  </tbody>\n",
       "</table>\n",
       "</div>"
      ],
      "text/plain": [
       "                            EMAIL  COHORT  PRE  POST   AGE     SEX  \\\n",
       "0  smehaffey0@creativecommons.org       4  485   494  32.0    Male   \n",
       "1            dbateman1@hao12@.com       4  462   458  33.0  Female   \n",
       "2               bbenham2@xrea.com       3  477   483   NaN  Female   \n",
       "3                    mwison@@g.co       2  480   488  31.0  Female   \n",
       "4        jagostini4@wordpress.org       1  495   494  38.0  Female   \n",
       "\n",
       "    EDUCATION  SATISFACTION  STUDY_HOURS  \n",
       "0  Bachelor's             2         36.6  \n",
       "1  Bachelor's             8         22.4  \n",
       "2  Bachelor's             1         19.8  \n",
       "3  Bachelor's            10         33.1  \n",
       "4         NaN             9         32.5  "
      ]
     },
     "execution_count": 2,
     "metadata": {},
     "output_type": "execute_result"
    }
   ],
   "source": [
    "contestants.head()"
   ]
  },
  {
   "cell_type": "markdown",
   "id": "d58c6a36",
   "metadata": {},
   "source": [
    "Based on this data preview, we identified there are a few issues that need to be addressed. First, it appears that some of the emails contain an invalid format. We also have some values in the `AGE` and `EDUCATION` columns called `NaN` which don't seem to belong. We can address these and other issues in the dataset in ways that would be difficult or impossible to do with Excel's features. "
   ]
  },
  {
   "cell_type": "markdown",
   "id": "768127f7",
   "metadata": {},
   "source": [
    "## Working with the metadata\n",
    "\n",
    "A good data analysis and transformation program should be equally proficient in handling both data and metadata. In this regard, `pandas` stands out as a particularly suitable tool.\n",
    "\n",
    "Currently, our DataFrame has column names in uppercase. To make typing column names easier, I prefer using lowercase names. Fortunately, in `pandas`, we can accomplish this with a single line of code: "
   ]
  },
  {
   "cell_type": "code",
   "execution_count": 3,
   "id": "8baa490a",
   "metadata": {},
   "outputs": [
    {
     "data": {
      "text/html": [
       "<div>\n",
       "<style scoped>\n",
       "    .dataframe tbody tr th:only-of-type {\n",
       "        vertical-align: middle;\n",
       "    }\n",
       "\n",
       "    .dataframe tbody tr th {\n",
       "        vertical-align: top;\n",
       "    }\n",
       "\n",
       "    .dataframe thead th {\n",
       "        text-align: right;\n",
       "    }\n",
       "</style>\n",
       "<table border=\"1\" class=\"dataframe\">\n",
       "  <thead>\n",
       "    <tr style=\"text-align: right;\">\n",
       "      <th></th>\n",
       "      <th>email</th>\n",
       "      <th>cohort</th>\n",
       "      <th>pre</th>\n",
       "      <th>post</th>\n",
       "      <th>age</th>\n",
       "      <th>sex</th>\n",
       "      <th>education</th>\n",
       "      <th>satisfaction</th>\n",
       "      <th>study_hours</th>\n",
       "    </tr>\n",
       "  </thead>\n",
       "  <tbody>\n",
       "    <tr>\n",
       "      <th>0</th>\n",
       "      <td>smehaffey0@creativecommons.org</td>\n",
       "      <td>4</td>\n",
       "      <td>485</td>\n",
       "      <td>494</td>\n",
       "      <td>32.0</td>\n",
       "      <td>Male</td>\n",
       "      <td>Bachelor's</td>\n",
       "      <td>2</td>\n",
       "      <td>36.6</td>\n",
       "    </tr>\n",
       "    <tr>\n",
       "      <th>1</th>\n",
       "      <td>dbateman1@hao12@.com</td>\n",
       "      <td>4</td>\n",
       "      <td>462</td>\n",
       "      <td>458</td>\n",
       "      <td>33.0</td>\n",
       "      <td>Female</td>\n",
       "      <td>Bachelor's</td>\n",
       "      <td>8</td>\n",
       "      <td>22.4</td>\n",
       "    </tr>\n",
       "    <tr>\n",
       "      <th>2</th>\n",
       "      <td>bbenham2@xrea.com</td>\n",
       "      <td>3</td>\n",
       "      <td>477</td>\n",
       "      <td>483</td>\n",
       "      <td>NaN</td>\n",
       "      <td>Female</td>\n",
       "      <td>Bachelor's</td>\n",
       "      <td>1</td>\n",
       "      <td>19.8</td>\n",
       "    </tr>\n",
       "    <tr>\n",
       "      <th>3</th>\n",
       "      <td>mwison@@g.co</td>\n",
       "      <td>2</td>\n",
       "      <td>480</td>\n",
       "      <td>488</td>\n",
       "      <td>31.0</td>\n",
       "      <td>Female</td>\n",
       "      <td>Bachelor's</td>\n",
       "      <td>10</td>\n",
       "      <td>33.1</td>\n",
       "    </tr>\n",
       "    <tr>\n",
       "      <th>4</th>\n",
       "      <td>jagostini4@wordpress.org</td>\n",
       "      <td>1</td>\n",
       "      <td>495</td>\n",
       "      <td>494</td>\n",
       "      <td>38.0</td>\n",
       "      <td>Female</td>\n",
       "      <td>NaN</td>\n",
       "      <td>9</td>\n",
       "      <td>32.5</td>\n",
       "    </tr>\n",
       "  </tbody>\n",
       "</table>\n",
       "</div>"
      ],
      "text/plain": [
       "                            email  cohort  pre  post   age     sex  \\\n",
       "0  smehaffey0@creativecommons.org       4  485   494  32.0    Male   \n",
       "1            dbateman1@hao12@.com       4  462   458  33.0  Female   \n",
       "2               bbenham2@xrea.com       3  477   483   NaN  Female   \n",
       "3                    mwison@@g.co       2  480   488  31.0  Female   \n",
       "4        jagostini4@wordpress.org       1  495   494  38.0  Female   \n",
       "\n",
       "    education  satisfaction  study_hours  \n",
       "0  Bachelor's             2         36.6  \n",
       "1  Bachelor's             8         22.4  \n",
       "2  Bachelor's             1         19.8  \n",
       "3  Bachelor's            10         33.1  \n",
       "4         NaN             9         32.5  "
      ]
     },
     "execution_count": 3,
     "metadata": {},
     "output_type": "execute_result"
    }
   ],
   "source": [
    "# Convert headers to all lowercase\n",
    "contestants.columns = contestants.columns.str.lower()\n",
    "contestants.head()"
   ]
  },
  {
   "cell_type": "markdown",
   "id": "74e263e8",
   "metadata": {},
   "source": [
    "## Pattern matching/regular expressions\n",
    "\n",
    "The `email` column of this DataFrame contains email addresses for each contest participant. Our task is to remove any rows from this column that have invalid email addresses.\n",
    "\n",
    "Text pattern matching like this is accomplished using a set of tools known as regular expressions. While Power Query does offer basic text manipulation capabilities, such as case conversions, it lacks the ability to search for specific patterns of text, a feature available in Python.\n",
    "\n",
    "Regular expressions can be challenging to create and validate, but there are online resources available to assist with that. Here is the regular expression we will be using:"
   ]
  },
  {
   "cell_type": "code",
   "execution_count": 4,
   "id": "c54cfbeb",
   "metadata": {},
   "outputs": [],
   "source": [
    "# Define a regular expression pattern for valid email addresses\n",
    "email_pattern = r'^[a-z0-9]+[\\._]?[a-z0-9]+[@]\\w+[.]\\w{2,3}$'  "
   ]
  },
  {
   "cell_type": "markdown",
   "id": "a44db77d",
   "metadata": {},
   "source": [
    "Next, we can use the `str.contains()` method to keep only the records that match the pattern."
   ]
  },
  {
   "cell_type": "code",
   "execution_count": 5,
   "id": "63249bd1",
   "metadata": {},
   "outputs": [],
   "source": [
    "full_emails = contestants[contestants['email'].str.contains(email_pattern)]"
   ]
  },
  {
   "cell_type": "markdown",
   "id": "6b5c9b47",
   "metadata": {},
   "source": [
    "To confirm how many rows have been filtered out, we can compare the `shape` attribute of the two DataFrames:"
   ]
  },
  {
   "cell_type": "code",
   "execution_count": 6,
   "id": "a912c2d9",
   "metadata": {},
   "outputs": [
    {
     "data": {
      "text/plain": [
       "(100, 9)"
      ]
     },
     "execution_count": 6,
     "metadata": {},
     "output_type": "execute_result"
    }
   ],
   "source": [
    "# Dimensions of original DataFrame\n",
    "contestants.shape"
   ]
  },
  {
   "cell_type": "code",
   "execution_count": 7,
   "id": "41cc1428",
   "metadata": {},
   "outputs": [
    {
     "data": {
      "text/plain": [
       "(82, 9)"
      ]
     },
     "execution_count": 7,
     "metadata": {},
     "output_type": "execute_result"
    }
   ],
   "source": [
    "# Dimensions of DataFrame with valid emails\n",
    "full_emails.shape"
   ]
  },
  {
   "cell_type": "markdown",
   "id": "471fdaca",
   "metadata": {},
   "source": [
    "## Analyzing missing values \n",
    "\n",
    "The `info()` method offers a comprehensive overview of the DataFrame's dimensions and additional properties:"
   ]
  },
  {
   "cell_type": "code",
   "execution_count": 8,
   "id": "c04023d8",
   "metadata": {},
   "outputs": [
    {
     "name": "stdout",
     "output_type": "stream",
     "text": [
      "<class 'pandas.core.frame.DataFrame'>\n",
      "Int64Index: 82 entries, 0 to 99\n",
      "Data columns (total 9 columns):\n",
      " #   Column        Non-Null Count  Dtype  \n",
      "---  ------        --------------  -----  \n",
      " 0   email         82 non-null     object \n",
      " 1   cohort        82 non-null     int64  \n",
      " 2   pre           82 non-null     int64  \n",
      " 3   post          82 non-null     int64  \n",
      " 4   age           81 non-null     float64\n",
      " 5   sex           82 non-null     object \n",
      " 6   education     81 non-null     object \n",
      " 7   satisfaction  82 non-null     int64  \n",
      " 8   study_hours   82 non-null     float64\n",
      "dtypes: float64(2), int64(4), object(3)\n",
      "memory usage: 6.4+ KB\n"
     ]
    }
   ],
   "source": [
    "full_emails.info()"
   ]
  },
  {
   "cell_type": "markdown",
   "id": "14c62fed",
   "metadata": {},
   "source": [
    "In Python and other programming languages, `null` refers to a missing or undefined value. In `pandas` DataFrames, this is typically denoted as `NaN`, which stands for \"Not a Number.\"\n",
    "\n",
    "While basic Excel lacks an exact equivalent to `null`, Power Query [does provide this value](https://stringfestanalytics.com/how-to-understand-null-and-missing-values-in-power-query/), which greatly aids in data management and inspection. However, it can be difficult to programatically work with these missing values in Power Query. `pandas` makes this easier. \n",
    "\n",
    "For example I might want to see what columns have the most percentage of missing values. I can do this easily with `pandas`: "
   ]
  },
  {
   "cell_type": "code",
   "execution_count": 9,
   "id": "19898e58",
   "metadata": {},
   "outputs": [
    {
     "data": {
      "text/plain": [
       "age             0.012195\n",
       "education       0.012195\n",
       "email           0.000000\n",
       "cohort          0.000000\n",
       "pre             0.000000\n",
       "post            0.000000\n",
       "sex             0.000000\n",
       "satisfaction    0.000000\n",
       "study_hours     0.000000\n",
       "dtype: float64"
      ]
     },
     "execution_count": 9,
     "metadata": {},
     "output_type": "execute_result"
    }
   ],
   "source": [
    "# Sort by percentage\n",
    "full_emails.isnull().mean().sort_values(ascending=False)"
   ]
  },
  {
   "cell_type": "markdown",
   "id": "bc7138cf",
   "metadata": {},
   "source": [
    "Because there are so few missing values, we will simply drop any row that has a missing observation in any column:"
   ]
  },
  {
   "cell_type": "code",
   "execution_count": 10,
   "id": "044fe93a",
   "metadata": {},
   "outputs": [],
   "source": [
    "# Drop missing values\n",
    "complete_cases = full_emails.dropna()"
   ]
  },
  {
   "cell_type": "markdown",
   "id": "3482f034",
   "metadata": {},
   "source": [
    "To confirm that all missing observations have been cleared from the DataFrame, we can use the info() method again."
   ]
  },
  {
   "cell_type": "code",
   "execution_count": 11,
   "id": "f068f5a4",
   "metadata": {},
   "outputs": [
    {
     "name": "stdout",
     "output_type": "stream",
     "text": [
      "<class 'pandas.core.frame.DataFrame'>\n",
      "Int64Index: 80 entries, 0 to 99\n",
      "Data columns (total 9 columns):\n",
      " #   Column        Non-Null Count  Dtype  \n",
      "---  ------        --------------  -----  \n",
      " 0   email         80 non-null     object \n",
      " 1   cohort        80 non-null     int64  \n",
      " 2   pre           80 non-null     int64  \n",
      " 3   post          80 non-null     int64  \n",
      " 4   age           80 non-null     float64\n",
      " 5   sex           80 non-null     object \n",
      " 6   education     80 non-null     object \n",
      " 7   satisfaction  80 non-null     int64  \n",
      " 8   study_hours   80 non-null     float64\n",
      "dtypes: float64(2), int64(4), object(3)\n",
      "memory usage: 6.2+ KB\n"
     ]
    }
   ],
   "source": [
    "complete_cases.info()"
   ]
  },
  {
   "cell_type": "markdown",
   "id": "4c82e218",
   "metadata": {},
   "source": [
    "To export the resulting DataFrame to a spreadsheet, we can use the `to_excel()` method from the `pandas` library:"
   ]
  },
  {
   "cell_type": "code",
   "execution_count": 12,
   "id": "d223db4c",
   "metadata": {},
   "outputs": [],
   "source": [
    "# Write to Excel -- Pandas \n",
    "complete_cases.to_excel('contestants_cleaned.xlsx', index=False)"
   ]
  }
 ],
 "metadata": {
  "kernelspec": {
   "display_name": "Python 3 (ipykernel)",
   "language": "python",
   "name": "python3"
  },
  "language_info": {
   "codemirror_mode": {
    "name": "ipython",
    "version": 3
   },
   "file_extension": ".py",
   "mimetype": "text/x-python",
   "name": "python",
   "nbconvert_exporter": "python",
   "pygments_lexer": "ipython3",
   "version": "3.9.12"
  }
 },
 "nbformat": 4,
 "nbformat_minor": 5
}
