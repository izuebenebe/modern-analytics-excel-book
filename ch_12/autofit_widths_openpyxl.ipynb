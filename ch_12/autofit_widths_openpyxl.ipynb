{
 "cells": [
  {
   "cell_type": "markdown",
   "id": "0156d406",
   "metadata": {},
   "source": [
    "The objective of this notebook is to build an equivalent of Excel's AutoFit feature to adjust column widths. We'll get started by importing the relevant modules and a small sample DataFrame: "
   ]
  },
  {
   "cell_type": "code",
   "execution_count": 1,
   "id": "2074014a",
   "metadata": {},
   "outputs": [
    {
     "data": {
      "text/html": [
       "<style>div.output_area pre {font-size: 120%;}</style>"
      ],
      "text/plain": [
       "<IPython.core.display.HTML object>"
      ]
     },
     "metadata": {},
     "output_type": "display_data"
    }
   ],
   "source": [
    "# Increase font size of notebook \n",
    "\n",
    "from IPython.display import display, HTML\n",
    "display(HTML(\"<style>div.output_area pre {font-size: 120%;}</style>\"))"
   ]
  },
  {
   "cell_type": "code",
   "execution_count": 2,
   "id": "e89304c7",
   "metadata": {},
   "outputs": [
    {
     "data": {
      "text/html": [
       "<div>\n",
       "<style scoped>\n",
       "    .dataframe tbody tr th:only-of-type {\n",
       "        vertical-align: middle;\n",
       "    }\n",
       "\n",
       "    .dataframe tbody tr th {\n",
       "        vertical-align: top;\n",
       "    }\n",
       "\n",
       "    .dataframe thead th {\n",
       "        text-align: right;\n",
       "    }\n",
       "</style>\n",
       "<table border=\"1\" class=\"dataframe\">\n",
       "  <thead>\n",
       "    <tr style=\"text-align: right;\">\n",
       "      <th></th>\n",
       "      <th>Column A</th>\n",
       "      <th>Column B</th>\n",
       "      <th>Column C</th>\n",
       "    </tr>\n",
       "  </thead>\n",
       "  <tbody>\n",
       "    <tr>\n",
       "      <th>0</th>\n",
       "      <td>This is the longest row of the column</td>\n",
       "      <td>X</td>\n",
       "      <td>X</td>\n",
       "    </tr>\n",
       "    <tr>\n",
       "      <th>1</th>\n",
       "      <td>Y</td>\n",
       "      <td>This is the longest row of the column</td>\n",
       "      <td>Y</td>\n",
       "    </tr>\n",
       "    <tr>\n",
       "      <th>2</th>\n",
       "      <td>Z</td>\n",
       "      <td>Z</td>\n",
       "      <td>This is the longest row of the column</td>\n",
       "    </tr>\n",
       "  </tbody>\n",
       "</table>\n",
       "</div>"
      ],
      "text/plain": [
       "                                Column A  \\\n",
       "0  This is the longest row of the column   \n",
       "1                                      Y   \n",
       "2                                      Z   \n",
       "\n",
       "                                Column B  \\\n",
       "0                                      X   \n",
       "1  This is the longest row of the column   \n",
       "2                                      Z   \n",
       "\n",
       "                                Column C  \n",
       "0                                      X  \n",
       "1                                      Y  \n",
       "2  This is the longest row of the column  "
      ]
     },
     "execution_count": 2,
     "metadata": {},
     "output_type": "execute_result"
    }
   ],
   "source": [
    "from openpyxl import Workbook\n",
    "from openpyxl.utils.dataframe import dataframe_to_rows\n",
    "import pandas as pd\n",
    "\n",
    "data = {\n",
    "    'Column A': [\n",
    "        'This is the longest row of the column',\n",
    "        'Y',\n",
    "        'Z'\n",
    "    ],\n",
    "    'Column B': [\n",
    "        'X',\n",
    "        'This is the longest row of the column',\n",
    "        'Z'\n",
    "    ],\n",
    "    'Column C': [\n",
    "        'X',\n",
    "        'Y',\n",
    "        'This is the longest row of the column'\n",
    "    ]\n",
    "}\n",
    "\n",
    "df = pd.DataFrame(data)\n",
    "df.head()"
   ]
  },
  {
   "cell_type": "markdown",
   "id": "af33136f",
   "metadata": {},
   "source": [
    "Next, we'll create workbook and worksheet objects and transfer the DataFrame to the worksheet:"
   ]
  },
  {
   "cell_type": "code",
   "execution_count": 3,
   "id": "0248d7c5",
   "metadata": {},
   "outputs": [],
   "source": [
    "# Create a new workbook and select the active sheet\n",
    "wb = Workbook()\n",
    "ws = wb.active"
   ]
  },
  {
   "cell_type": "code",
   "execution_count": 4,
   "id": "72e0dd4f",
   "metadata": {},
   "outputs": [],
   "source": [
    "# Insert df into the worksheet\n",
    "for r in dataframe_to_rows(df, header=True, index=False):\n",
    "    ws.append(r)"
   ]
  },
  {
   "cell_type": "markdown",
   "id": "f16662f4",
   "metadata": {},
   "source": [
    "Although `dataframe_to_rows()` can transfer a DataFrame's content to the worksheet, lacks control over Excel formatting. \n",
    "\n",
    "To address this limitation, we will use a loop to find the longest row in each column of the worksheet. Next, we will apply the necessary padding to ensure the appropriate width for each column."
   ]
  },
  {
   "cell_type": "code",
   "execution_count": 5,
   "id": "05f623c3",
   "metadata": {},
   "outputs": [],
   "source": [
    "# Iterate over all columns and adjust their widths\n",
    "for column in ws.columns:\n",
    "    max_length = 0\n",
    "    column_letter = column[0].column_letter\n",
    "    for cell in column:\n",
    "        try:\n",
    "            if len(str(cell.value)) > max_length:\n",
    "                max_length = len(cell.value)\n",
    "        except:\n",
    "            pass\n",
    "    adjusted_width = (max_length + 2) * 1.2\n",
    "    ws.column_dimensions[column_letter].width = adjusted_width"
   ]
  },
  {
   "cell_type": "markdown",
   "id": "a014ce70",
   "metadata": {},
   "source": [
    "Finally, we can close the workbook and view the results in Excel."
   ]
  },
  {
   "cell_type": "code",
   "execution_count": 6,
   "id": "45466d46",
   "metadata": {},
   "outputs": [],
   "source": [
    "# Save the workbook\n",
    "wb.save('autofit_example.xlsx')"
   ]
  }
 ],
 "metadata": {
  "kernelspec": {
   "display_name": "Python 3 (ipykernel)",
   "language": "python",
   "name": "python3"
  },
  "language_info": {
   "codemirror_mode": {
    "name": "ipython",
    "version": 3
   },
   "file_extension": ".py",
   "mimetype": "text/x-python",
   "name": "python",
   "nbconvert_exporter": "python",
   "pygments_lexer": "ipython3",
   "version": "3.9.12"
  }
 },
 "nbformat": 4,
 "nbformat_minor": 5
}
