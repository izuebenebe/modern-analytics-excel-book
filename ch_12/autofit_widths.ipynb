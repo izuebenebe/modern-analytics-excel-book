{
 "cells": [
  {
   "cell_type": "code",
   "execution_count": 1,
   "id": "45466d46",
   "metadata": {},
   "outputs": [],
   "source": [
    "from openpyxl import Workbook\n",
    "from openpyxl.utils import get_column_letter\n",
    "\n",
    "# Create a new workbook and select the active sheet\n",
    "workbook = Workbook()\n",
    "sheet = workbook.active\n",
    "\n",
    "# Set some sample data in the cells\n",
    "sheet['A1'] = 'Sample Text'\n",
    "sheet['B1'] = 'Some Longer Text'\n",
    "sheet['C1'] = 'Even Longer Text That Needs to Be Autofitted'\n",
    "\n",
    "# Iterate over all columns and adjust their widths\n",
    "for column in sheet.columns:\n",
    "    max_length = 0\n",
    "    column_letter = column[0].column_letter\n",
    "    for cell in column:\n",
    "        try:\n",
    "            if len(str(cell.value)) > max_length:\n",
    "                max_length = len(cell.value)\n",
    "        except:\n",
    "            pass\n",
    "    adjusted_width = (max_length + 2) * 1.2\n",
    "    sheet.column_dimensions[column_letter].width = adjusted_width\n",
    "\n",
    "# Save the workbook\n",
    "workbook.save('autofit_example.xlsx')"
   ]
  }
 ],
 "metadata": {
  "kernelspec": {
   "display_name": "Python 3 (ipykernel)",
   "language": "python",
   "name": "python3"
  },
  "language_info": {
   "codemirror_mode": {
    "name": "ipython",
    "version": 3
   },
   "file_extension": ".py",
   "mimetype": "text/x-python",
   "name": "python",
   "nbconvert_exporter": "python",
   "pygments_lexer": "ipython3",
   "version": "3.9.12"
  }
 },
 "nbformat": 4,
 "nbformat_minor": 5
}
