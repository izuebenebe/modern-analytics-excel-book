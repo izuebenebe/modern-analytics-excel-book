{
 "cells": [
  {
   "cell_type": "markdown",
   "id": "91b1ef35",
   "metadata": {},
   "source": [
    "ChatGPT prompt:\n",
    "\n",
    "> Write a Python script to generate a dataset of 100 rows with these columns: cohort, pre, post, age, sex, education, satisfaction, study hours. There should be a positive correlation of .77 between pre and post. Satisfaction and study hours should be positively correlated at .6. There should be a negative correlation of -.2 between age and satisfaction. 80% of rows should have a Bachelor's, 10% a Master's and 10% a Doctorate. Satisfaction should be an integer between  1 and 10."
   ]
  },
  {
   "cell_type": "code",
   "execution_count": null,
   "id": "d286d1d4",
   "metadata": {},
   "outputs": [],
   "source": [
    "import pandas as pd\n",
    "import numpy as np\n",
    "\n",
    "# Set the random seed for reproducibility\n",
    "np.random.seed(1234)\n",
    "\n",
    "# Define the number of rows\n",
    "num_rows = 100\n",
    "\n",
    "# Generate the cohort column (random values between 1 and 4)\n",
    "cohort = np.random.randint(1, 5, size=num_rows)\n",
    "\n",
    "# Generate the pre and post columns with a positive correlation of 0.77\n",
    "pre = np.random.normal(480, 20, size=num_rows)\n",
    "post = pre + np.random.normal(0, 10, size=num_rows) * 0.77\n",
    "\n",
    "# Generate the age column (random values between 20 and 40)\n",
    "age = np.random.randint(20, 41, size=num_rows)\n",
    "\n",
    "# Generate the sex column (randomly choose between Male and Female)\n",
    "sex = np.random.choice(['Male', 'Female'], size=num_rows)\n",
    "\n",
    "# Generate the education column with the specified distribution\n",
    "education_distribution = np.random.choice(['Bachelor\\'s', 'Master\\'s', 'Doctorate'], size=num_rows, p=[0.8, 0.1, 0.1])\n",
    "\n",
    "# Generate the satisfaction column as integers between 1 and 10\n",
    "satisfaction = np.random.randint(1, 11, size=num_rows)\n",
    "\n",
    "# Generate the study_hours column with a positive correlation of 0.6 with satisfaction\n",
    "study_hours = satisfaction * 0.6 + np.random.normal(25, 5, size=num_rows)\n",
    "\n",
    "# Create the DataFrame\n",
    "data = pd.DataFrame({\n",
    "    'cohort': cohort,\n",
    "    'pre': pre.round().astype(int),\n",
    "    'post': post.round().astype(int),\n",
    "    'age': age,\n",
    "    'sex': sex,\n",
    "    'education': education_distribution,\n",
    "    'satisfaction': satisfaction,\n",
    "    'study_hours': study_hours.round(1)\n",
    "})\n",
    "\n",
    "# Display the DataFrame\n",
    "print(data)"
   ]
  },
  {
   "cell_type": "code",
   "execution_count": null,
   "id": "aa32783e",
   "metadata": {},
   "outputs": [],
   "source": [
    "data.to_excel('contestants-generated.xlsx', index=False)"
   ]
  }
 ],
 "metadata": {
  "kernelspec": {
   "display_name": "Python 3 (ipykernel)",
   "language": "python",
   "name": "python3"
  },
  "language_info": {
   "codemirror_mode": {
    "name": "ipython",
    "version": 3
   },
   "file_extension": ".py",
   "mimetype": "text/x-python",
   "name": "python",
   "nbconvert_exporter": "python",
   "pygments_lexer": "ipython3",
   "version": "3.9.12"
  }
 },
 "nbformat": 4,
 "nbformat_minor": 5
}
