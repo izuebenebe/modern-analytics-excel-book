{
 "cells": [
  {
   "cell_type": "code",
   "execution_count": 14,
   "id": "e4d4a32e",
   "metadata": {},
   "outputs": [],
   "source": [
    "import pandas as pd\n",
    "from openpyxl import Workbook\n",
    "from openpyxl.styles import PatternFill\n",
    "\n",
    "# Create a sample DataFrame\n",
    "data = {'Name': ['John', 'Alice', 'Bob'],\n",
    "        'Age': [25, 30, 35],\n",
    "        'Country': ['USA', 'Canada', 'UK'],\n",
    "        'Post': [410, 390, 360]}\n",
    "df = pd.DataFrame(data)\n",
    "\n",
    "# Create a new workbook and select the active worksheet\n",
    "workbook = Workbook()\n",
    "worksheet = workbook.active\n",
    "\n",
    "# Convert the DataFrame to a list of lists\n",
    "data_values = [df.columns.tolist()] + df.values.tolist()\n",
    "\n",
    "# Insert the data into the worksheet\n",
    "for row in data_values:\n",
    "    worksheet.append(row)\n",
    "\n",
    "# Apply conditional formatting to highlight the entire row based on the \"Post\" column\n",
    "green_fill = PatternFill(start_color=\"00FF00\", end_color=\"00FF00\", fill_type=\"solid\")\n",
    "yellow_fill = PatternFill(start_color=\"FFFF00\", end_color=\"FFFF00\", fill_type=\"solid\")\n",
    "for row in worksheet.iter_rows(min_row=2, min_col=1, max_col=len(df.columns)):\n",
    "    post = row[3].value\n",
    "    if post > 400:\n",
    "        for cell in row:\n",
    "            cell.fill = green_fill\n",
    "    elif post > 375:\n",
    "        for cell in row:\n",
    "            cell.fill = yellow_fill\n",
    "\n",
    "# Save the workbook\n",
    "workbook.save(\"output.xlsx\")\n"
   ]
  },
  {
   "cell_type": "code",
   "execution_count": null,
   "id": "e44aa55e",
   "metadata": {},
   "outputs": [],
   "source": []
  },
  {
   "cell_type": "code",
   "execution_count": null,
   "id": "998e50df",
   "metadata": {},
   "outputs": [],
   "source": []
  }
 ],
 "metadata": {
  "kernelspec": {
   "display_name": "Python 3 (ipykernel)",
   "language": "python",
   "name": "python3"
  },
  "language_info": {
   "codemirror_mode": {
    "name": "ipython",
    "version": 3
   },
   "file_extension": ".py",
   "mimetype": "text/x-python",
   "name": "python",
   "nbconvert_exporter": "python",
   "pygments_lexer": "ipython3",
   "version": "3.9.12"
  }
 },
 "nbformat": 4,
 "nbformat_minor": 5
}
