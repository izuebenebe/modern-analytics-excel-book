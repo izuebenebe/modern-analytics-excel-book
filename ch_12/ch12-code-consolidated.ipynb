{
 "cells": [
  {
   "cell_type": "markdown",
   "id": "ff68314d",
   "metadata": {},
   "source": [
    "The objective of this notebook is to create a brief Excel report using `openpyxl`. First, we will use `pandas` to perform complex data cleaning and analysis tasks that are difficult to achieve in Excel.\n",
    "\n",
    "Next, we will create an overview worksheet consisting of summary statistics and two charts, one from native Excel and one from Python. After that, we'll load the entire dataset to a new worksheet and format the results. \n",
    "\n",
    "Let's import the relevant modules and dataset to get started: "
   ]
  },
  {
   "cell_type": "code",
   "execution_count": 1,
   "id": "e3f8c06d",
   "metadata": {},
   "outputs": [],
   "source": [
    "# https://stringfestanalytics.com/how-to-understand-the-relationship-between-pandas-openpyxl-and-power-query/\n",
    "import pandas as pd\n",
    "import seaborn as sns\n",
    "\n",
    "from openpyxl import Workbook\n",
    "from openpyxl.chart import BarChart, Reference\n",
    "from openpyxl.drawing.image import Image\n",
    "from openpyxl.utils.dataframe import dataframe_to_rows\n",
    "from openpyxl.utils import get_column_letter\n",
    "from openpyxl.utils.dataframe import dataframe_to_rows\n",
    "from openpyxl.worksheet.table import Table, TableStyleInfo\n",
    "from openpyxl.styles import PatternFill"
   ]
  },
  {
   "cell_type": "markdown",
   "id": "fe462a25",
   "metadata": {},
   "source": [
    "The `pandas` library can import data from various formats, such as Excel workbooks using the `read_excel()` function. Let's read the `contestants.xlsx` file as `contestants`."
   ]
  },
  {
   "cell_type": "code",
   "execution_count": 2,
   "id": "0f2ac185",
   "metadata": {},
   "outputs": [],
   "source": [
    "contestants = pd.read_excel('contestants.xlsx')"
   ]
  },
  {
   "cell_type": "markdown",
   "id": "b2adb150",
   "metadata": {},
   "source": [
    "# 1. Clean up the data in `pandas` \n",
    "\n",
    "A `pandas` DataFrame may have thousands of rows or more, so printing them all is impractical. However, it is important to visually inspect the data -- a benefit Excel users are familiar with. To get a glimpse of the data and ensure it meets our expectations, we can use the `head()` method to display the first five rows."
   ]
  },
  {
   "cell_type": "code",
   "execution_count": 3,
   "id": "c865f03e",
   "metadata": {},
   "outputs": [
    {
     "data": {
      "text/html": [
       "<div>\n",
       "<style scoped>\n",
       "    .dataframe tbody tr th:only-of-type {\n",
       "        vertical-align: middle;\n",
       "    }\n",
       "\n",
       "    .dataframe tbody tr th {\n",
       "        vertical-align: top;\n",
       "    }\n",
       "\n",
       "    .dataframe thead th {\n",
       "        text-align: right;\n",
       "    }\n",
       "</style>\n",
       "<table border=\"1\" class=\"dataframe\">\n",
       "  <thead>\n",
       "    <tr style=\"text-align: right;\">\n",
       "      <th></th>\n",
       "      <th>EMAIL</th>\n",
       "      <th>COHORT</th>\n",
       "      <th>PRE</th>\n",
       "      <th>POST</th>\n",
       "      <th>AGE</th>\n",
       "      <th>SEX</th>\n",
       "      <th>EDUCATION</th>\n",
       "      <th>SATISFACTION</th>\n",
       "      <th>STUDY_HOURS</th>\n",
       "    </tr>\n",
       "  </thead>\n",
       "  <tbody>\n",
       "    <tr>\n",
       "      <th>0</th>\n",
       "      <td>smehaffey0@creativecommons.org</td>\n",
       "      <td>4</td>\n",
       "      <td>485</td>\n",
       "      <td>494</td>\n",
       "      <td>32.0</td>\n",
       "      <td>Male</td>\n",
       "      <td>Bachelor's</td>\n",
       "      <td>2</td>\n",
       "      <td>36.6</td>\n",
       "    </tr>\n",
       "    <tr>\n",
       "      <th>1</th>\n",
       "      <td>dbateman1@hao12@.com</td>\n",
       "      <td>4</td>\n",
       "      <td>462</td>\n",
       "      <td>458</td>\n",
       "      <td>33.0</td>\n",
       "      <td>Female</td>\n",
       "      <td>Bachelor's</td>\n",
       "      <td>8</td>\n",
       "      <td>22.4</td>\n",
       "    </tr>\n",
       "    <tr>\n",
       "      <th>2</th>\n",
       "      <td>bbenham2@xrea.com</td>\n",
       "      <td>3</td>\n",
       "      <td>477</td>\n",
       "      <td>483</td>\n",
       "      <td>NaN</td>\n",
       "      <td>Female</td>\n",
       "      <td>Bachelor's</td>\n",
       "      <td>1</td>\n",
       "      <td>19.8</td>\n",
       "    </tr>\n",
       "    <tr>\n",
       "      <th>3</th>\n",
       "      <td>mwison@@g.co</td>\n",
       "      <td>2</td>\n",
       "      <td>480</td>\n",
       "      <td>488</td>\n",
       "      <td>31.0</td>\n",
       "      <td>Female</td>\n",
       "      <td>Bachelor's</td>\n",
       "      <td>10</td>\n",
       "      <td>33.1</td>\n",
       "    </tr>\n",
       "    <tr>\n",
       "      <th>4</th>\n",
       "      <td>jagostini4@wordpress.org</td>\n",
       "      <td>1</td>\n",
       "      <td>495</td>\n",
       "      <td>494</td>\n",
       "      <td>38.0</td>\n",
       "      <td>Female</td>\n",
       "      <td>NaN</td>\n",
       "      <td>9</td>\n",
       "      <td>32.5</td>\n",
       "    </tr>\n",
       "  </tbody>\n",
       "</table>\n",
       "</div>"
      ],
      "text/plain": [
       "                            EMAIL  COHORT  PRE  POST   AGE     SEX  \\\n",
       "0  smehaffey0@creativecommons.org       4  485   494  32.0    Male   \n",
       "1            dbateman1@hao12@.com       4  462   458  33.0  Female   \n",
       "2               bbenham2@xrea.com       3  477   483   NaN  Female   \n",
       "3                    mwison@@g.co       2  480   488  31.0  Female   \n",
       "4        jagostini4@wordpress.org       1  495   494  38.0  Female   \n",
       "\n",
       "    EDUCATION  SATISFACTION  STUDY_HOURS  \n",
       "0  Bachelor's             2         36.6  \n",
       "1  Bachelor's             8         22.4  \n",
       "2  Bachelor's             1         19.8  \n",
       "3  Bachelor's            10         33.1  \n",
       "4         NaN             9         32.5  "
      ]
     },
     "execution_count": 3,
     "metadata": {},
     "output_type": "execute_result"
    }
   ],
   "source": [
    "contestants.head()"
   ]
  },
  {
   "cell_type": "markdown",
   "id": "3564bf70",
   "metadata": {},
   "source": [
    "Based on this data preview, we identified there are a few issues that need to be addressed. First, it appears that some of the emails contain an invalid format. We also have some values in the `AGE` and `EDUCATION` columns called NaN which don't seem to belong. We can address these and other issues in the dataset in ways that would be difficult or impossible to do with Excel's features.\n",
    "\n",
    "## Working with the metadata\n",
    "\n",
    "A good data analysis and transformation program should be equally proficient in handling both data and metadata. In this regard, `pandas` stands out as a particularly suitable tool.\n",
    "\n",
    "Currently, our DataFrame has column names in uppercase. To make typing column names easier, I prefer using lowercase names. Fortunately, in `pandas`, we can accomplish this with a single line of code:"
   ]
  },
  {
   "cell_type": "code",
   "execution_count": 4,
   "id": "f2ad9eb5",
   "metadata": {},
   "outputs": [
    {
     "data": {
      "text/html": [
       "<div>\n",
       "<style scoped>\n",
       "    .dataframe tbody tr th:only-of-type {\n",
       "        vertical-align: middle;\n",
       "    }\n",
       "\n",
       "    .dataframe tbody tr th {\n",
       "        vertical-align: top;\n",
       "    }\n",
       "\n",
       "    .dataframe thead th {\n",
       "        text-align: right;\n",
       "    }\n",
       "</style>\n",
       "<table border=\"1\" class=\"dataframe\">\n",
       "  <thead>\n",
       "    <tr style=\"text-align: right;\">\n",
       "      <th></th>\n",
       "      <th>email</th>\n",
       "      <th>cohort</th>\n",
       "      <th>pre</th>\n",
       "      <th>post</th>\n",
       "      <th>age</th>\n",
       "      <th>sex</th>\n",
       "      <th>education</th>\n",
       "      <th>satisfaction</th>\n",
       "      <th>study_hours</th>\n",
       "    </tr>\n",
       "  </thead>\n",
       "  <tbody>\n",
       "    <tr>\n",
       "      <th>0</th>\n",
       "      <td>smehaffey0@creativecommons.org</td>\n",
       "      <td>4</td>\n",
       "      <td>485</td>\n",
       "      <td>494</td>\n",
       "      <td>32.0</td>\n",
       "      <td>Male</td>\n",
       "      <td>Bachelor's</td>\n",
       "      <td>2</td>\n",
       "      <td>36.6</td>\n",
       "    </tr>\n",
       "    <tr>\n",
       "      <th>1</th>\n",
       "      <td>dbateman1@hao12@.com</td>\n",
       "      <td>4</td>\n",
       "      <td>462</td>\n",
       "      <td>458</td>\n",
       "      <td>33.0</td>\n",
       "      <td>Female</td>\n",
       "      <td>Bachelor's</td>\n",
       "      <td>8</td>\n",
       "      <td>22.4</td>\n",
       "    </tr>\n",
       "    <tr>\n",
       "      <th>2</th>\n",
       "      <td>bbenham2@xrea.com</td>\n",
       "      <td>3</td>\n",
       "      <td>477</td>\n",
       "      <td>483</td>\n",
       "      <td>NaN</td>\n",
       "      <td>Female</td>\n",
       "      <td>Bachelor's</td>\n",
       "      <td>1</td>\n",
       "      <td>19.8</td>\n",
       "    </tr>\n",
       "    <tr>\n",
       "      <th>3</th>\n",
       "      <td>mwison@@g.co</td>\n",
       "      <td>2</td>\n",
       "      <td>480</td>\n",
       "      <td>488</td>\n",
       "      <td>31.0</td>\n",
       "      <td>Female</td>\n",
       "      <td>Bachelor's</td>\n",
       "      <td>10</td>\n",
       "      <td>33.1</td>\n",
       "    </tr>\n",
       "    <tr>\n",
       "      <th>4</th>\n",
       "      <td>jagostini4@wordpress.org</td>\n",
       "      <td>1</td>\n",
       "      <td>495</td>\n",
       "      <td>494</td>\n",
       "      <td>38.0</td>\n",
       "      <td>Female</td>\n",
       "      <td>NaN</td>\n",
       "      <td>9</td>\n",
       "      <td>32.5</td>\n",
       "    </tr>\n",
       "  </tbody>\n",
       "</table>\n",
       "</div>"
      ],
      "text/plain": [
       "                            email  cohort  pre  post   age     sex  \\\n",
       "0  smehaffey0@creativecommons.org       4  485   494  32.0    Male   \n",
       "1            dbateman1@hao12@.com       4  462   458  33.0  Female   \n",
       "2               bbenham2@xrea.com       3  477   483   NaN  Female   \n",
       "3                    mwison@@g.co       2  480   488  31.0  Female   \n",
       "4        jagostini4@wordpress.org       1  495   494  38.0  Female   \n",
       "\n",
       "    education  satisfaction  study_hours  \n",
       "0  Bachelor's             2         36.6  \n",
       "1  Bachelor's             8         22.4  \n",
       "2  Bachelor's             1         19.8  \n",
       "3  Bachelor's            10         33.1  \n",
       "4         NaN             9         32.5  "
      ]
     },
     "execution_count": 4,
     "metadata": {},
     "output_type": "execute_result"
    }
   ],
   "source": [
    "# Convert headers to all lowercase\n",
    "contestants.columns = contestants.columns.str.lower()\n",
    "contestants.head()"
   ]
  },
  {
   "cell_type": "markdown",
   "id": "88e318b2",
   "metadata": {},
   "source": [
    "## Pattern matching/regular expressions\n",
    "\n",
    "The `email` column of this DataFrame contains email addresses for each contest participant. Our task is to remove any rows from this column that have invalid email addresses.\n",
    "\n",
    "Text pattern matching like this is accomplished using a set of tools known as regular expressions. While Power Query does offer basic text manipulation capabilities, such as case conversions, it lacks the ability to search for specific patterns of text, a feature available in Python.\n",
    "\n",
    "Regular expressions can be challenging to create and validate, but there are online resources available to assist with that. Here is the regular expression we will be using:"
   ]
  },
  {
   "cell_type": "code",
   "execution_count": 5,
   "id": "6fbe7ad2",
   "metadata": {},
   "outputs": [],
   "source": [
    "# Define a regular expression pattern for valid email addresses\n",
    "email_pattern = r'^[a-z0-9]+[\\._]?[a-z0-9]+[@]\\w+[.]\\w{2,3}$'  "
   ]
  },
  {
   "cell_type": "markdown",
   "id": "562bd4df",
   "metadata": {},
   "source": [
    "Next, we can use the `str.contains()` method to keep only the records that match the pattern."
   ]
  },
  {
   "cell_type": "code",
   "execution_count": 6,
   "id": "28806c0a",
   "metadata": {},
   "outputs": [],
   "source": [
    "full_emails = contestants[contestants['email'].str.contains(email_pattern)]"
   ]
  },
  {
   "cell_type": "markdown",
   "id": "c8f2cf6f",
   "metadata": {},
   "source": [
    "To confirm how many rows have been filtered out, we can compare the `shape` attribute of the two DataFrames:"
   ]
  },
  {
   "cell_type": "code",
   "execution_count": 7,
   "id": "fecacb2b",
   "metadata": {},
   "outputs": [
    {
     "data": {
      "text/plain": [
       "(100, 9)"
      ]
     },
     "execution_count": 7,
     "metadata": {},
     "output_type": "execute_result"
    }
   ],
   "source": [
    "# Dimensions of original DataFrame\n",
    "contestants.shape"
   ]
  },
  {
   "cell_type": "code",
   "execution_count": 8,
   "id": "e5474f6d",
   "metadata": {},
   "outputs": [
    {
     "data": {
      "text/plain": [
       "(82, 9)"
      ]
     },
     "execution_count": 8,
     "metadata": {},
     "output_type": "execute_result"
    }
   ],
   "source": [
    "# Dimensions of DataFrame with valid emails\n",
    "full_emails.shape"
   ]
  },
  {
   "cell_type": "markdown",
   "id": "d217cd15",
   "metadata": {},
   "source": [
    "## Analyzing missing values\n",
    "\n",
    "The `info()` method offers a comprehensive overview of the DataFrame's dimensions and additional properties:"
   ]
  },
  {
   "cell_type": "code",
   "execution_count": 9,
   "id": "d455dba4",
   "metadata": {},
   "outputs": [
    {
     "name": "stdout",
     "output_type": "stream",
     "text": [
      "<class 'pandas.core.frame.DataFrame'>\n",
      "Int64Index: 82 entries, 0 to 99\n",
      "Data columns (total 9 columns):\n",
      " #   Column        Non-Null Count  Dtype  \n",
      "---  ------        --------------  -----  \n",
      " 0   email         82 non-null     object \n",
      " 1   cohort        82 non-null     int64  \n",
      " 2   pre           82 non-null     int64  \n",
      " 3   post          82 non-null     int64  \n",
      " 4   age           81 non-null     float64\n",
      " 5   sex           82 non-null     object \n",
      " 6   education     81 non-null     object \n",
      " 7   satisfaction  82 non-null     int64  \n",
      " 8   study_hours   82 non-null     float64\n",
      "dtypes: float64(2), int64(4), object(3)\n",
      "memory usage: 6.4+ KB\n"
     ]
    }
   ],
   "source": [
    "full_emails.info()"
   ]
  },
  {
   "cell_type": "markdown",
   "id": "6f9392aa",
   "metadata": {},
   "source": [
    "In Python and other programming languages, `null` refers to a missing or undefined value. In pandas DataFrames, this is typically denoted as `NaN`, which stands for \"Not a Number.\"\n",
    "\n",
    "While basic Excel lacks an exact equivalent to `null`, Power Query does provide this value, which greatly aids in data management and inspection. However, it can be difficult to programatically work with these missing values in Power Query. pandas makes this easier.\n",
    "\n",
    "For example I might want to see what columns have the most percentage of missing values. I can do this easily with `pandas`:"
   ]
  },
  {
   "cell_type": "code",
   "execution_count": 10,
   "id": "27ae4059",
   "metadata": {},
   "outputs": [
    {
     "data": {
      "text/plain": [
       "age             0.012195\n",
       "education       0.012195\n",
       "email           0.000000\n",
       "cohort          0.000000\n",
       "pre             0.000000\n",
       "post            0.000000\n",
       "sex             0.000000\n",
       "satisfaction    0.000000\n",
       "study_hours     0.000000\n",
       "dtype: float64"
      ]
     },
     "execution_count": 10,
     "metadata": {},
     "output_type": "execute_result"
    }
   ],
   "source": [
    "# Sort by percentage\n",
    "full_emails.isnull().mean().sort_values(ascending=False)"
   ]
  },
  {
   "cell_type": "markdown",
   "id": "310f33f2",
   "metadata": {},
   "source": [
    "Because there are so few missing values, we will simply drop any row that has a missing observation in any column:"
   ]
  },
  {
   "cell_type": "code",
   "execution_count": 11,
   "id": "028b1960",
   "metadata": {},
   "outputs": [],
   "source": [
    "# Drop missing values\n",
    "complete_cases = full_emails.dropna()"
   ]
  },
  {
   "cell_type": "markdown",
   "id": "e187cc6b",
   "metadata": {},
   "source": [
    "To confirm that all missing observations have been cleared from the DataFrame, we can use the info() method again."
   ]
  },
  {
   "cell_type": "code",
   "execution_count": 12,
   "id": "d80e14ce",
   "metadata": {},
   "outputs": [
    {
     "name": "stdout",
     "output_type": "stream",
     "text": [
      "<class 'pandas.core.frame.DataFrame'>\n",
      "Int64Index: 80 entries, 0 to 99\n",
      "Data columns (total 9 columns):\n",
      " #   Column        Non-Null Count  Dtype  \n",
      "---  ------        --------------  -----  \n",
      " 0   email         80 non-null     object \n",
      " 1   cohort        80 non-null     int64  \n",
      " 2   pre           80 non-null     int64  \n",
      " 3   post          80 non-null     int64  \n",
      " 4   age           80 non-null     float64\n",
      " 5   sex           80 non-null     object \n",
      " 6   education     80 non-null     object \n",
      " 7   satisfaction  80 non-null     int64  \n",
      " 8   study_hours   80 non-null     float64\n",
      "dtypes: float64(2), int64(4), object(3)\n",
      "memory usage: 6.2+ KB\n"
     ]
    }
   ],
   "source": [
    "complete_cases.info()"
   ]
  },
  {
   "cell_type": "markdown",
   "id": "4234cf03",
   "metadata": {},
   "source": [
    "## Creating a percentile \n",
    "\n",
    "Using `pandas`, we'll create a percentile rank for the `post` column and confirm its validity by running descriptive statistics with `describe()`: "
   ]
  },
  {
   "cell_type": "code",
   "execution_count": 13,
   "id": "149e9767",
   "metadata": {},
   "outputs": [
    {
     "name": "stderr",
     "output_type": "stream",
     "text": [
      "C:\\Users\\georg\\AppData\\Local\\Temp\\ipykernel_23232\\3913346414.py:2: SettingWithCopyWarning: \n",
      "A value is trying to be set on a copy of a slice from a DataFrame.\n",
      "Try using .loc[row_indexer,col_indexer] = value instead\n",
      "\n",
      "See the caveats in the documentation: https://pandas.pydata.org/pandas-docs/stable/user_guide/indexing.html#returning-a-view-versus-a-copy\n",
      "  complete_cases['post_pct'] = complete_cases.groupby('cohort')['post'].rank(pct=True)\n"
     ]
    },
    {
     "data": {
      "text/plain": [
       "count    80.000000\n",
       "mean      0.525000\n",
       "std       0.289920\n",
       "min       0.045455\n",
       "25%       0.276515\n",
       "50%       0.522727\n",
       "75%       0.779545\n",
       "max       1.000000\n",
       "Name: post_pct, dtype: float64"
      ]
     },
     "execution_count": 13,
     "metadata": {},
     "output_type": "execute_result"
    }
   ],
   "source": [
    "# Calculate the percentile rank\n",
    "complete_cases['post_pct'] = complete_cases['post'].rank(pct=True)\n",
    "\n",
    "complete_cases['post_pct'].describe()"
   ]
  },
  {
   "cell_type": "markdown",
   "id": "47ca2f0d",
   "metadata": {},
   "source": [
    "Creating a percentile column in Excel is also straightforward, but validating their results can be much easier in `pandas` due to available statistical functions, methods for working with missing values and more. \n",
    "\n",
    "Our dataset has been properly cleaned and transformed using `pandas`:"
   ]
  },
  {
   "cell_type": "code",
   "execution_count": 25,
   "id": "df4fc8f8",
   "metadata": {},
   "outputs": [
    {
     "data": {
      "text/html": [
       "<div>\n",
       "<style scoped>\n",
       "    .dataframe tbody tr th:only-of-type {\n",
       "        vertical-align: middle;\n",
       "    }\n",
       "\n",
       "    .dataframe tbody tr th {\n",
       "        vertical-align: top;\n",
       "    }\n",
       "\n",
       "    .dataframe thead th {\n",
       "        text-align: right;\n",
       "    }\n",
       "</style>\n",
       "<table border=\"1\" class=\"dataframe\">\n",
       "  <thead>\n",
       "    <tr style=\"text-align: right;\">\n",
       "      <th></th>\n",
       "      <th>cohort</th>\n",
       "      <th>pre</th>\n",
       "      <th>post</th>\n",
       "      <th>age</th>\n",
       "      <th>satisfaction</th>\n",
       "      <th>study_hours</th>\n",
       "      <th>post_pct</th>\n",
       "    </tr>\n",
       "  </thead>\n",
       "  <tbody>\n",
       "    <tr>\n",
       "      <th>count</th>\n",
       "      <td>80.000000</td>\n",
       "      <td>80.000000</td>\n",
       "      <td>80.000000</td>\n",
       "      <td>80.000000</td>\n",
       "      <td>80.000000</td>\n",
       "      <td>80.000000</td>\n",
       "      <td>80.000000</td>\n",
       "    </tr>\n",
       "    <tr>\n",
       "      <th>mean</th>\n",
       "      <td>2.475000</td>\n",
       "      <td>480.550000</td>\n",
       "      <td>480.987500</td>\n",
       "      <td>30.162500</td>\n",
       "      <td>5.237500</td>\n",
       "      <td>28.316250</td>\n",
       "      <td>0.525000</td>\n",
       "    </tr>\n",
       "    <tr>\n",
       "      <th>std</th>\n",
       "      <td>1.147093</td>\n",
       "      <td>20.752856</td>\n",
       "      <td>23.181995</td>\n",
       "      <td>6.042976</td>\n",
       "      <td>2.869498</td>\n",
       "      <td>5.228245</td>\n",
       "      <td>0.289920</td>\n",
       "    </tr>\n",
       "    <tr>\n",
       "      <th>min</th>\n",
       "      <td>1.000000</td>\n",
       "      <td>409.000000</td>\n",
       "      <td>398.000000</td>\n",
       "      <td>20.000000</td>\n",
       "      <td>1.000000</td>\n",
       "      <td>14.500000</td>\n",
       "      <td>0.045455</td>\n",
       "    </tr>\n",
       "    <tr>\n",
       "      <th>25%</th>\n",
       "      <td>1.000000</td>\n",
       "      <td>470.000000</td>\n",
       "      <td>466.500000</td>\n",
       "      <td>25.000000</td>\n",
       "      <td>3.000000</td>\n",
       "      <td>25.950000</td>\n",
       "      <td>0.276515</td>\n",
       "    </tr>\n",
       "    <tr>\n",
       "      <th>50%</th>\n",
       "      <td>2.500000</td>\n",
       "      <td>484.000000</td>\n",
       "      <td>483.000000</td>\n",
       "      <td>30.500000</td>\n",
       "      <td>5.000000</td>\n",
       "      <td>28.050000</td>\n",
       "      <td>0.522727</td>\n",
       "    </tr>\n",
       "    <tr>\n",
       "      <th>75%</th>\n",
       "      <td>3.250000</td>\n",
       "      <td>494.000000</td>\n",
       "      <td>497.000000</td>\n",
       "      <td>35.000000</td>\n",
       "      <td>7.000000</td>\n",
       "      <td>32.225000</td>\n",
       "      <td>0.779545</td>\n",
       "    </tr>\n",
       "    <tr>\n",
       "      <th>max</th>\n",
       "      <td>4.000000</td>\n",
       "      <td>521.000000</td>\n",
       "      <td>540.000000</td>\n",
       "      <td>40.000000</td>\n",
       "      <td>10.000000</td>\n",
       "      <td>40.900000</td>\n",
       "      <td>1.000000</td>\n",
       "    </tr>\n",
       "  </tbody>\n",
       "</table>\n",
       "</div>"
      ],
      "text/plain": [
       "          cohort         pre        post        age  satisfaction  \\\n",
       "count  80.000000   80.000000   80.000000  80.000000     80.000000   \n",
       "mean    2.475000  480.550000  480.987500  30.162500      5.237500   \n",
       "std     1.147093   20.752856   23.181995   6.042976      2.869498   \n",
       "min     1.000000  409.000000  398.000000  20.000000      1.000000   \n",
       "25%     1.000000  470.000000  466.500000  25.000000      3.000000   \n",
       "50%     2.500000  484.000000  483.000000  30.500000      5.000000   \n",
       "75%     3.250000  494.000000  497.000000  35.000000      7.000000   \n",
       "max     4.000000  521.000000  540.000000  40.000000     10.000000   \n",
       "\n",
       "       study_hours   post_pct  \n",
       "count    80.000000  80.000000  \n",
       "mean     28.316250   0.525000  \n",
       "std       5.228245   0.289920  \n",
       "min      14.500000   0.045455  \n",
       "25%      25.950000   0.276515  \n",
       "50%      28.050000   0.522727  \n",
       "75%      32.225000   0.779545  \n",
       "max      40.900000   1.000000  "
      ]
     },
     "execution_count": 25,
     "metadata": {},
     "output_type": "execute_result"
    }
   ],
   "source": [
    "complete_cases.describe()"
   ]
  },
  {
   "cell_type": "markdown",
   "id": "eae40e0c",
   "metadata": {},
   "source": [
    "Now it's time to create a styled summary report using `openpyxl`. "
   ]
  },
  {
   "cell_type": "markdown",
   "id": "46fe3af7",
   "metadata": {},
   "source": [
    "# 2. Summarize findings with `openpyxl`\n",
    "\n",
    "With our DataFrame in its final state, we can start taking things over into Excel. \n",
    "\n",
    "## Creating a summary worksheet\n",
    "\n",
    "First, use `openpyxl` to create and manipulate workbook and worksheet objects."
   ]
  },
  {
   "cell_type": "code",
   "execution_count": null,
   "id": "0fd3ad78",
   "metadata": {},
   "outputs": [],
   "source": [
    "# Create a new workbook and select the worksheet\n",
    "wb = Workbook()\n",
    "# Assign the active worksheet to ws\n",
    "ws = wb.active"
   ]
  },
  {
   "cell_type": "markdown",
   "id": "32c5f0fb",
   "metadata": {},
   "source": [
    "From there, we can populate any cell of the active sheet using its alphanumeric reference. I am going to insert and label the average pre and post scores in cells `A1:B2`: "
   ]
  },
  {
   "cell_type": "code",
   "execution_count": 26,
   "id": "edd76bd6",
   "metadata": {},
   "outputs": [],
   "source": [
    "# Populate the worksheet with data\n",
    "ws['A1'] = \"Average pre score\"\n",
    "ws['B1'] = complete_cases['pre'].mean()\n",
    "\n",
    "ws['A2'] = \"Average post score\"\n",
    "ws['B2'] = complete_cases['post'].mean()"
   ]
  },
  {
   "cell_type": "markdown",
   "id": "1d1e8a0f",
   "metadata": {},
   "source": [
    "Inserting data into the workbook this way is just a raw data dump. It in no way affects the appearance of the data in Excel. Given my experience formatting data in Excel, I suspect the labels in column `A` require more width. I'll adjust that now via the `width` property of the worksheet: "
   ]
  },
  {
   "cell_type": "code",
   "execution_count": null,
   "id": "94deab69",
   "metadata": {},
   "outputs": [],
   "source": [
    "# Manually set the column widths -- will show a more sophisticated way later\n",
    "ws.column_dimensions['A'].width = 16"
   ]
  },
  {
   "cell_type": "markdown",
   "id": "386c1e5c",
   "metadata": {},
   "source": [
    "Later in this chapter, we'll cover achieving AutoFit-like adjustments for column widths. But for now, let's shift our focus to adding charts to this summary. "
   ]
  },
  {
   "cell_type": "markdown",
   "id": "dc028678",
   "metadata": {},
   "source": [
    "## Inserting charts \n",
    "\n",
    "###  Option A: Write an Excel plot\n",
    "\n",
    "<!--- \n",
    "https://stringfestanalytics.com/how-to-visualize-data-in-excel-with-openpyxl/ ---->\n",
    "\n",
    "Excel's data visualization features are popular because they are easy to use and effective. Let's explore how to create native Excel charts from Python using `openpyxl`.\n",
    "\n",
    "First, we will specify what type of Excel chart we'd like to create and where the data for it resides in the worksheet: \n"
   ]
  },
  {
   "cell_type": "code",
   "execution_count": null,
   "id": "bfa5bafe",
   "metadata": {},
   "outputs": [],
   "source": [
    "# Create a bar chart object\n",
    "chart = BarChart()\n",
    "\n",
    "# Define the data range\n",
    "data = Reference(ws, min_col=2, min_row=1, max_col=2, max_row=2)"
   ]
  },
  {
   "cell_type": "markdown",
   "id": "496d5879",
   "metadata": {},
   "source": [
    "Next, we'll add this data source to the chart and label the chart's title and axes: "
   ]
  },
  {
   "cell_type": "code",
   "execution_count": null,
   "id": "3e18f1bb",
   "metadata": {},
   "outputs": [],
   "source": [
    "# Add data to the chart\n",
    "chart.add_data(data)\n",
    "\n",
    "# Set chart title, axis labels\n",
    "chart.title = \"Score Comparison\"\n",
    "chart.x_axis.title = \"Score Type\"\n",
    "chart.y_axis.title = \"Score Value\""
   ]
  },
  {
   "cell_type": "markdown",
   "id": "7a97c142",
   "metadata": {},
   "source": [
    "Let's further customize this chart. We'll set category labels to reflect the data in the first column and also eliminate the chart legend."
   ]
  },
  {
   "cell_type": "code",
   "execution_count": null,
   "id": "8483b7ef",
   "metadata": {},
   "outputs": [],
   "source": [
    "# Set category names\n",
    "categories = Reference(ws, min_col=1, min_row=1, max_row=2)\n",
    "chart.set_categories(categories)\n",
    "\n",
    "# Remove the legend\n",
    "chart.legend = None"
   ]
  },
  {
   "cell_type": "markdown",
   "id": "84ee39aa",
   "metadata": {},
   "source": [
    "With the chart fully defined and styled, it's time to insert it into the worksheet. "
   ]
  },
  {
   "cell_type": "code",
   "execution_count": 14,
   "id": "5974a68f",
   "metadata": {},
   "outputs": [],
   "source": [
    "# Add the chart to a specific location on the worksheet\n",
    "ws.add_chart(chart, \"D1\")"
   ]
  },
  {
   "cell_type": "code",
   "execution_count": 15,
   "id": "1f4e8d74",
   "metadata": {},
   "outputs": [
    {
     "data": {
      "image/png": "[encoded data removed]",
      "text/plain": [
       "<Figure size 792.125x720 with 20 Axes>"
      ]
     },
     "metadata": {
      "needs_background": "light"
     },
     "output_type": "display_data"
    }
   ],
   "source": [
    "# Pairplot should go on cell D20 \n",
    "\n",
    "sns_plot = sns.pairplot(contestants[['pre', 'post', 'age', 'study_hours', 'sex']],\n",
    "            hue='sex')"
   ]
  },
  {
   "cell_type": "code",
   "execution_count": 16,
   "id": "372ced78",
   "metadata": {},
   "outputs": [],
   "source": [
    "# Create new worksheet \n",
    "ws2 = wb.create_sheet('pairplot')\n",
    "\n",
    "# Save last created viz as an image\n",
    "sns_plot.savefig('pairplot.png')\n",
    "\n",
    "# Load saved image into the worksheet\n",
    "image = Image('pairplot.png')\n",
    "ws2.add_image(image, 'A1')"
   ]
  },
  {
   "cell_type": "code",
   "execution_count": 17,
   "id": "2290afed",
   "metadata": {},
   "outputs": [],
   "source": [
    "#wb.save('openpyxl-viz.xlsx')\n",
    "#wb.close()"
   ]
  },
  {
   "cell_type": "markdown",
   "id": "a086e911",
   "metadata": {},
   "source": [
    "# 3. Add the raw data\n",
    "\n",
    "## Format the data\n"
   ]
  },
  {
   "cell_type": "code",
   "execution_count": 18,
   "id": "92326123",
   "metadata": {},
   "outputs": [],
   "source": [
    "ws3 = wb.create_sheet(title=\"data\")\n",
    "\n",
    "# Write the DataFrame to the worksheet\n",
    "for row in dataframe_to_rows(complete_cases, index=False, header=True):\n",
    "    ws3.append(row)\n",
    "    "
   ]
  },
  {
   "cell_type": "code",
   "execution_count": 19,
   "id": "af521e72",
   "metadata": {},
   "outputs": [
    {
     "data": {
      "text/plain": [
       "'J'"
      ]
     },
     "execution_count": 19,
     "metadata": {},
     "output_type": "execute_result"
    }
   ],
   "source": [
    "# Get index position of percentile column\n",
    "\n",
    "post_pct_loc = complete_cases.columns.get_loc('post_pct') + 1\n",
    "post_pct_col = get_column_letter(post_pct_loc) \n",
    "post_pct_col"
   ]
  },
  {
   "cell_type": "code",
   "execution_count": 20,
   "id": "1d41fe5d",
   "metadata": {},
   "outputs": [],
   "source": [
    "# Format the column cells as percentage\n",
    "\n",
    "number_format = '0.0%'\n",
    "\n",
    "for cell in ws3[post_pct_col]:\n",
    "    cell.number_format = number_format"
   ]
  },
  {
   "cell_type": "markdown",
   "id": "320dc613",
   "metadata": {},
   "source": [
    "## Convert to a table\n",
    "\n"
   ]
  },
  {
   "cell_type": "code",
   "execution_count": 21,
   "id": "7d547f5a",
   "metadata": {},
   "outputs": [],
   "source": [
    "style = TableStyleInfo(name=\"TableStyleMedium9\", showRowStripes=True)\n",
    "\n",
    "table = Table(displayName=\"contestants\", \n",
    "              ref=\"A1:\" + get_column_letter(ws3.max_column) + str(ws3.max_row))\n",
    "              \n",
    "table.tableStyleInfo = style\n",
    "ws3.add_table(table)"
   ]
  },
  {
   "cell_type": "markdown",
   "id": "8049ef02",
   "metadata": {},
   "source": [
    "## Conditional formatting\n",
    "\n"
   ]
  },
  {
   "cell_type": "code",
   "execution_count": 22,
   "id": "a8adac13",
   "metadata": {},
   "outputs": [],
   "source": [
    "# Apply conditional formatting to highlight the entire row based on the \"Post\" column\n",
    "green_fill = PatternFill(start_color=\"B9E8A2\", end_color=\"B9E8A2\", fill_type=\"solid\")\n",
    "yellow_fill = PatternFill(start_color=\"FFF9D4\", end_color=\"FFF9D4\", fill_type=\"solid\")\n",
    "\n",
    "for row in ws3.iter_rows(min_row=2, min_col=1, max_col=len(complete_cases.columns)):\n",
    "    post_pct = row[post_pct_loc - 1].value\n",
    "    if post_pct > .9:\n",
    "        for cell in row:\n",
    "            cell.fill = green_fill\n",
    "    elif post_pct > .7:\n",
    "        for cell in row:\n",
    "            cell.fill = yellow_fill"
   ]
  },
  {
   "cell_type": "markdown",
   "id": "6e31e666",
   "metadata": {},
   "source": [
    "## Autofit widths"
   ]
  },
  {
   "cell_type": "code",
   "execution_count": 23,
   "id": "cf39e20e",
   "metadata": {},
   "outputs": [],
   "source": [
    "for column in ws3.columns:\n",
    "    max_length = 0\n",
    "    column_letter = column[0].column_letter\n",
    "    for cell in column:\n",
    "        try:\n",
    "            if len(str(cell.value)) > max_length:\n",
    "                max_length = len(cell.value)\n",
    "        except:\n",
    "            pass\n",
    "    adjusted_width = (max_length + 2) * 1.2\n",
    "    ws3.column_dimensions[column_letter].width = adjusted_width"
   ]
  },
  {
   "cell_type": "code",
   "execution_count": 24,
   "id": "16818a95",
   "metadata": {},
   "outputs": [],
   "source": [
    "# Save the workbook\n",
    "wb.save('ch12-output.xlsx')"
   ]
  },
  {
   "cell_type": "code",
   "execution_count": null,
   "id": "c6b4d028",
   "metadata": {},
   "outputs": [],
   "source": []
  }
 ],
 "metadata": {
  "kernelspec": {
   "display_name": "Python 3 (ipykernel)",
   "language": "python",
   "name": "python3"
  },
  "language_info": {
   "codemirror_mode": {
    "name": "ipython",
    "version": 3
   },
   "file_extension": ".py",
   "mimetype": "text/x-python",
   "name": "python",
   "nbconvert_exporter": "python",
   "pygments_lexer": "ipython3",
   "version": "3.9.12"
  }
 },
 "nbformat": 4,
 "nbformat_minor": 5
}
